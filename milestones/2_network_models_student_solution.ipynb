{
 "cells": [
  {
   "cell_type": "markdown",
   "metadata": {},
   "source": [
    "# [NTDS'18] milestone 2: network models\n",
    "[ntds'18]: https://github.com/mdeff/ntds_2018\n",
    "\n",
    "[Hermina Petric Maretic](https://people.epfl.ch/hermina.petricmaretic), [EPFL LTS4](https://lts4.epfl.ch)"
   ]
  },
  {
   "cell_type": "markdown",
   "metadata": {},
   "source": [
    "## Students\n",
    "\n",
    "* Team: `47`\n",
    "* Students: `Leo Capiod ; Frank Schmutz ; Harold Sussmilch ; Josef Weber`\n",
    "* Dataset: `Flight Routes : airports and routes for ms 1`"
   ]
  },
  {
   "cell_type": "markdown",
   "metadata": {},
   "source": [
    "## Rules\n",
    "\n",
    "* Milestones have to be completed by teams. No collaboration between teams is allowed.\n",
    "* Textual answers shall be short. Typically one to two sentences.\n",
    "* Code has to be clean.\n",
    "* In the first part, you cannot import any other library than we imported. In the second part, you are allowed to import any library you want.\n",
    "* When submitting, the notebook is executed and the results are stored. I.e., if you open the notebook again it should show numerical results and plots. We won't be able to execute your notebooks.\n",
    "* The notebook is re-executed from a blank state before submission. That is to be sure it is reproducible. You can click \"Kernel\" then \"Restart & Run All\" in Jupyter."
   ]
  },
  {
   "cell_type": "markdown",
   "metadata": {},
   "source": [
    "## Objective\n",
    "\n",
    "The purpose of this milestone is to explore various random network models, analyse their properties and compare them to your network. In the first part of the milestone you will implement two random graph models and try to fit them to your network. In this part you are not allowed to use any additional package. In the second part of the milestone you will choose a third random graph model that you think shares some properties with your network. You will be allowed to use additional packages to construct this network, but you must explain your network choice. Finally, make your code as clean as possible, and keep your textual answers short."
   ]
  },
  {
   "cell_type": "markdown",
   "metadata": {},
   "source": [
    "## Part 0\n",
    "\n",
    "Import the adjacency matrix of your graph that you constructed in milestone 1, as well as the number of nodes and edges of your network."
   ]
  },
  {
   "cell_type": "code",
   "execution_count": null,
   "metadata": {},
   "outputs": [],
   "source": [
    "%matplotlib inline\n",
    "\n",
    "import random\n",
    "\n",
    "import numpy as np\n",
    "import pandas as pd\n",
    "import matplotlib.pyplot as plt\n",
    "import scipy"
   ]
  },
  {
   "cell_type": "code",
   "execution_count": null,
   "metadata": {},
   "outputs": [],
   "source": [
    "adjacency =  np.load('../data/adj_matr.npy')\n",
    "n_nodes =  len(adjacency)\n",
    "n_edges =  np.count_nonzero(np.tril(adjacency, k = -1))"
   ]
  },
  {
   "cell_type": "markdown",
   "metadata": {},
   "source": [
    "## Part 1\n",
    "\n",
    "**For the computation of this part of the milestone you are only allowed to use the packages that have been imported in the cell below.**"
   ]
  },
  {
   "cell_type": "markdown",
   "metadata": {},
   "source": [
    "### Question 1\n",
    "\n",
    "Create a function that constructs an Erdős–Rényi graph."
   ]
  },
  {
   "cell_type": "code",
   "execution_count": null,
   "metadata": {},
   "outputs": [],
   "source": [
    "def erdos_renyi(n, p, seed=None):\n",
    "    \"\"\"Create an instance from the Erdos-Renyi graph model.\n",
    "    \n",
    "    Parameters\n",
    "    ----------\n",
    "    n: int\n",
    "        Size of the graph.\n",
    "    p: float\n",
    "        Edge probability. A number between 0 and 1.\n",
    "    seed: int (optional)\n",
    "        Seed for the random number generator. To get reproducible results.\n",
    "    \n",
    "    Returns\n",
    "    -------\n",
    "    adjacency\n",
    "        The adjacency matrix of a graph.\n",
    "    \"\"\"\n",
    "    \n",
    "    np.random.seed(seed)\n",
    "    adjacency = np.vectorize(lambda n: 1 if n > 1 - p else 0)(np.tril(np.random.random((n, n)), k = -1))\n",
    "    \n",
    "    return adjacency + adjacency.T"
   ]
  },
  {
   "cell_type": "code",
   "execution_count": null,
   "metadata": {},
   "outputs": [],
   "source": [
    "er = erdos_renyi(5, 0.6, 9765)\n",
    "plt.spy(er)\n",
    "plt.title('Erdos-Renyi (5, 0.6)')"
   ]
  },
  {
   "cell_type": "code",
   "execution_count": null,
   "metadata": {},
   "outputs": [],
   "source": [
    "er = erdos_renyi(10, 0.4, 7648)\n",
    "plt.spy(er)\n",
    "plt.title('Erdos-Renyi (10, 0.4)')"
   ]
  },
  {
   "cell_type": "markdown",
   "metadata": {},
   "source": [
    "### Question 2\n",
    "\n",
    "Use the function to create a random Erdos-Renyi graph. Choose the parameters such that number of nodes is the same as in your graph, and the number of edges similar. You don't need to set the random seed. Comment on your choice of parameters."
   ]
  },
  {
   "cell_type": "code",
   "execution_count": null,
   "metadata": {},
   "outputs": [],
   "source": [
    "Lmax = n_nodes * (n_nodes - 1) / 2\n",
    "p_edge = n_edges / Lmax\n",
    "er = erdos_renyi(n_nodes, p_edge)\n",
    "er_n_edges = np.count_nonzero(np.tril(er))"
   ]
  },
  {
   "cell_type": "code",
   "execution_count": null,
   "metadata": {},
   "outputs": [],
   "source": [
    "print(\"The Erdos-Rényi graph has\", er_n_edges, \"edges, our actual graph has\", n_edges, \"edges.\")"
   ]
  },
  {
   "cell_type": "markdown",
   "metadata": {},
   "source": [
    "**We choose $n = n_{nodes}$ since we want the same number of nodes as in our graph, and we choose $p$ to be $n_{edges}$ in our graph divided by theoretical maximum number of edges $L_{max}$ our graph could have.**"
   ]
  },
  {
   "cell_type": "code",
   "execution_count": null,
   "metadata": {},
   "outputs": [],
   "source": [
    "plt.figure(figsize=(20, 20))\n",
    "plt.subplot(121)\n",
    "plt.spy(er, markersize=1)\n",
    "plt.title('Erdos-Renyi (n_nodes, n_edges / Lmax)')\n",
    "plt.subplot(122)\n",
    "plt.spy(adjacency, markersize=1)\n",
    "plt.title('Flight routes graph')"
   ]
  },
  {
   "cell_type": "markdown",
   "metadata": {},
   "source": [
    "### Question 3\n",
    "\n",
    "Create a function that constructs a Barabási-Albert graph."
   ]
  },
  {
   "cell_type": "code",
   "execution_count": null,
   "metadata": {},
   "outputs": [],
   "source": [
    "def barabasi_albert(n, m, m0=2, seed=None):\n",
    "    \"\"\"Create an instance from the Barabasi-Albert graph model.\n",
    "    \n",
    "    Parameters\n",
    "    ----------\n",
    "    n: int\n",
    "        Size of the graph.\n",
    "    m: int\n",
    "        Number of edges to attach from a new node to existing nodes.\n",
    "    seed: int (optional)\n",
    "        Seed for the random number generator. To get reproducible results.\n",
    "    \n",
    "    Returns\n",
    "    -------\n",
    "    adjacency\n",
    "        The adjacency matrix of a graph.\n",
    "    \"\"\"\n",
    "    \n",
    "    if m0 < m:\n",
    "        m0 = m\n",
    "    \n",
    "    # appply seed to random\n",
    "    np.random.seed(seed)\n",
    "    \n",
    "    # create empty adjacency matrix\n",
    "    adjacency = np.zeros([n,n])\n",
    "    \n",
    "    # connect m initial nodes\n",
    "    adjacency[:m0, :m0] = 1\n",
    "    adjacency[np.diag_indices_from(adjacency)] = 0\n",
    "    \n",
    "    for node_index in range(m0, n):\n",
    "        # twice the current number of edges = m0 * (m0 - 1) + (node_index - m0) * 2 * m\n",
    "        denom = m0 * (m0 - 1) + (node_index - m0) * 2 * m\n",
    "        edge_prob = np.vectorize(lambda n: 1 if denom == 0 else adjacency[n].sum() / denom)(np.array(range(node_index)))\n",
    "        for to in np.random.choice(np.array(range(node_index)), size=m, replace=False, p=edge_prob):\n",
    "            adjacency[node_index, to] = 1\n",
    "            adjacency[to, node_index] = 1\n",
    "    \n",
    "    return adjacency"
   ]
  },
  {
   "cell_type": "code",
   "execution_count": null,
   "metadata": {},
   "outputs": [],
   "source": [
    "ba = barabasi_albert(5, 1, seed=9087)\n",
    "plt.spy(ba)\n",
    "plt.title('Barabasi-Albert (5, 1)')"
   ]
  },
  {
   "cell_type": "code",
   "execution_count": null,
   "metadata": {},
   "outputs": [],
   "source": [
    "ba = barabasi_albert(10, 2, seed=8708)\n",
    "plt.spy(ba)\n",
    "plt.title('Barabasi-Albert (10, 2)')"
   ]
  },
  {
   "cell_type": "markdown",
   "metadata": {},
   "source": [
    "### Question 4\n",
    "\n",
    "Use the function to create a random Barabási-Albert graph. Choose the parameters such that number of nodes is the same as in your graph, and the number of edges similar. You don't need to set the random seed. Comment on your choice of parameters."
   ]
  },
  {
   "cell_type": "code",
   "execution_count": null,
   "metadata": {},
   "outputs": [],
   "source": [
    "# need to solve for m: n_edges = m0 * (m0 - 1) / 2 + (n_nodes - m0) * m\n",
    "# since there are two variables we should fix one of them. Let's fix m0 = 10\n",
    "m0 = 10\n",
    "m = np.round((n_edges - m0 * (m0 - 1) / 2) / (n_nodes - m0)).astype(int)\n",
    "print(\"We take m =\", m)"
   ]
  },
  {
   "cell_type": "code",
   "execution_count": null,
   "metadata": {},
   "outputs": [],
   "source": [
    "ba = barabasi_albert(n_nodes, m, m0).astype(int)\n",
    "ba_n_edges = np.count_nonzero(np.tril(ba))"
   ]
  },
  {
   "cell_type": "code",
   "execution_count": null,
   "metadata": {},
   "outputs": [],
   "source": [
    "print(\"The Barabási-Albert graph has\", ba_n_edges, \"edges, our actual graph has\", n_edges, \"edges.\")"
   ]
  },
  {
   "cell_type": "markdown",
   "metadata": {},
   "source": [
    "**We choose $n = n_{nodes}$ obviously, and we chose $m$ by solving the following equation: $m_{0}(m_{0} - 1)/2 + (n_{nodes} - m_{0})m = n_{edges}$**"
   ]
  },
  {
   "cell_type": "code",
   "execution_count": null,
   "metadata": {},
   "outputs": [],
   "source": [
    "plt.figure(figsize=(20, 20))\n",
    "plt.subplot(121)\n",
    "plt.spy(ba, markersize=1)\n",
    "plt.title('Barabasi-Albert (n_nodes, m)')\n",
    "plt.subplot(122)\n",
    "plt.spy(adjacency, markersize=1)\n",
    "plt.title('Flight routes graph')"
   ]
  },
  {
   "cell_type": "markdown",
   "metadata": {},
   "source": [
    "### Question 5\n",
    "\n",
    "Compare the number of edges in all three networks (your real network, the Erdős–Rényi network, and the Barabási-Albert netowk)."
   ]
  },
  {
   "cell_type": "code",
   "execution_count": null,
   "metadata": {},
   "outputs": [],
   "source": [
    "print(\"Our real network has\", n_edges, \"edges, the Erdos-Rényi netwrok has\", er_n_edges, \"edges and the Barabási-Albert network has\", ba_n_edges, \"edges.\")"
   ]
  },
  {
   "cell_type": "markdown",
   "metadata": {},
   "source": [
    "### Question 6\n",
    "\n",
    "Implement a function that computes the [Kullback–Leibler (KL) divergence](https://en.wikipedia.org/wiki/Kullback%E2%80%93Leibler_divergence) between two probability distributions.\n",
    "We'll use it to compare the degree distributions of networks."
   ]
  },
  {
   "cell_type": "code",
   "execution_count": null,
   "metadata": {},
   "outputs": [],
   "source": [
    "def kl_divergence(p, q):\n",
    "    \"\"\"Compute the KL divergence between probability distributions of degrees of two networks.\n",
    "    \n",
    "    Parameters\n",
    "    ----------\n",
    "    p: np.array\n",
    "        Probability distribution of degrees of the 1st graph.\n",
    "    q: np.array\n",
    "        Probability distribution of degrees of the 2nd graph.\n",
    "    \n",
    "    Returns\n",
    "    -------\n",
    "    kl\n",
    "        The KL divergence between the two distributions.\n",
    "    \"\"\"\n",
    "        \n",
    "    # We extend p or q with zeros so that they have the same length\n",
    "    if len(p) > len(q):\n",
    "        zeros = np.zeros([len(p) - len(q),])\n",
    "        q = np.hstack((q, zeros))\n",
    "    elif len(q) > len(p):\n",
    "        zeros = np.zeros([len(q) - len(p),])\n",
    "        p = np.hstack((p, zeros))\n",
    "    \n",
    "    bins = []\n",
    "    last_idx_bin = 0\n",
    "    last_p_idx_nonzero = 0\n",
    "    last_q_idx_nonzero = 0\n",
    "    # Create bins\n",
    "    for i in range(0, len(p)):\n",
    "        if p[i] != 0 and q[i] != 0:\n",
    "            bins.append(i)\n",
    "            last_idx_bin = i\n",
    "            last_p_idx_nonzero = i\n",
    "            last_q_idx_nonzero = i\n",
    "        elif p[i] != 0:\n",
    "            last_p_idx_nonzero = i\n",
    "            if last_q_idx_nonzero > last_idx_bin:\n",
    "                bins.append(i)\n",
    "                last_idx_bin = i\n",
    "        elif q[i] != 0:\n",
    "            last_q_idx_nonzero = i\n",
    "            if last_p_idx_nonzero > last_idx_bin:\n",
    "                bins.append(i)\n",
    "                last_idx_bin = i\n",
    "    \n",
    "    # remove the last element in bins and by last index of p\n",
    "    bins.pop()\n",
    "    bins.append(len(p))\n",
    "    \n",
    "    bins = np.array(bins)\n",
    "    \n",
    "    # Create new arrays with number of elements corresponding to number of bins\n",
    "    p_ = np.zeros((len(bins),))\n",
    "    q_ = np.zeros((len(bins),))\n",
    "    for i in range(0, len(p)):\n",
    "        bin_nb = len(bins[bins < i])\n",
    "        p_[bin_nb] += p[i]\n",
    "        q_[bin_nb] += q[i]\n",
    "    \n",
    "    kl_func = np.vectorize(lambda n: 0 if p_[n] == 0 or q_[n] == 0 else p_[n] * np.log(p_[n] / q_[n]), otypes=[np.float])\n",
    "    kl = kl_func(np.array(range(len(p_)))).sum()\n",
    "    \n",
    "    return kl"
   ]
  },
  {
   "cell_type": "code",
   "execution_count": null,
   "metadata": {},
   "outputs": [],
   "source": [
    "p_test = np.array([0.2, 0.2, 0.2, 0.4])\n",
    "q_test = np.array([0.3, 0.3, 0.1, 0.3])\n",
    "kl_divergence(p_test, q_test)"
   ]
  },
  {
   "cell_type": "markdown",
   "metadata": {},
   "source": [
    "### Question 7\n",
    "\n",
    "Compare the degree distribution of your network to each of the two synthetic ones, in terms of KL divergence. **Hint:** Make sure you normalise your degree distributions to make them valid probability distributions."
   ]
  },
  {
   "cell_type": "code",
   "execution_count": null,
   "metadata": {},
   "outputs": [],
   "source": [
    "mask = adjacency.copy()\n",
    "mask[np.nonzero(adjacency)] = 1\n",
    "real_degrees = mask.sum(axis=0)\n",
    "real_weights = np.ones_like(real_degrees) / float(n_nodes)\n",
    "real_degree_distribution = np.bincount(real_degrees) / len(real_degrees)"
   ]
  },
  {
   "cell_type": "code",
   "execution_count": null,
   "metadata": {},
   "outputs": [],
   "source": [
    "er_degrees = er.sum(axis=0)\n",
    "er_weights = np.ones_like(er_degrees) / float(n_nodes)\n",
    "er_degree_distribution = np.bincount(er_degrees) / len(er_degrees)"
   ]
  },
  {
   "cell_type": "code",
   "execution_count": null,
   "metadata": {},
   "outputs": [],
   "source": [
    "ba_degrees = ba.sum(axis=0)\n",
    "ba_weights = np.ones_like(ba_degrees) / float(n_nodes)\n",
    "ba_degree_distribution = np.bincount(ba_degrees) / len(ba_degrees)"
   ]
  },
  {
   "cell_type": "code",
   "execution_count": null,
   "metadata": {},
   "outputs": [],
   "source": [
    "print('kl_divergence(er, real) =', kl_divergence(er_degree_distribution, real_degree_distribution))"
   ]
  },
  {
   "cell_type": "code",
   "execution_count": null,
   "metadata": {},
   "outputs": [],
   "source": [
    "print('kl_divergence(ba, real) =', kl_divergence(ba_degree_distribution, real_degree_distribution))"
   ]
  },
  {
   "cell_type": "markdown",
   "metadata": {},
   "source": [
    "### Question 8\n",
    "\n",
    "Plot the degree distribution historgrams for all three networks. Are they consistent with the KL divergence results? Explain."
   ]
  },
  {
   "cell_type": "code",
   "execution_count": null,
   "metadata": {},
   "outputs": [],
   "source": [
    "plt.figure(figsize=(20,6))\n",
    "plt.subplot(131)\n",
    "plt.axis([-10, 250, 0, 0.65])\n",
    "plt.title('Real network')\n",
    "_ = plt.hist(real_degrees, bins=50, weights=real_weights, range=(0,249))\n",
    "plt.subplot(132)\n",
    "plt.axis([-10, 250, 0, 0.65])\n",
    "plt.title('Erdos-Rényi network')\n",
    "_ = plt.hist(er_degrees, bins=50, weights=er_weights, range=(0,249))\n",
    "plt.subplot(133)\n",
    "plt.axis([-10, 250, 0, 0.65])\n",
    "plt.title('Barabási-Albert network')\n",
    "_ = plt.hist(ba_degrees, bins=50, weights=ba_weights, range=(0,249))"
   ]
  },
  {
   "cell_type": "markdown",
   "metadata": {},
   "source": [
    "**They are consistent with the KL divergence results: the BA model has a degree distribution which is more similar to the real network than the ER model, hence the lower KL divergence value for the BA model.**"
   ]
  },
  {
   "cell_type": "markdown",
   "metadata": {},
   "source": [
    "### Question 9\n",
    "\n",
    "Imagine you got equal degree distributions. Would that guarantee you got the same graph? Explain."
   ]
  },
  {
   "cell_type": "markdown",
   "metadata": {},
   "source": [
    "**No it wouldn't. It's very easy to come up with a counter example. Imagine the following degree distribution for a graph with 5 nodes: 3 nodes have a degree of 2 and the other 2 nodes have a degree of 1. Now consider the following two scenarios.  \n",
    "Scenario 1:  \n",
    "  $V_1 = \\{0, 1, 2, 3, 4\\}$  \n",
    "  $E_1 = \\{(0, 4), (1, 2), (1, 3), (2, 3)\\}$  \n",
    "  Scenario 2:  \n",
    "  $V_2 = \\{0, 1, 2, 3, 4\\}$  \n",
    "  $E_2 = \\{(0, 1), (1, 2), (2, 3), (3, 4)\\}$  \n",
    "  In the first scenario vertices 1, 2 and 3 have a degree of 2 and vertices 0 and 4 have a degree of 1 and the graph is not connected.  \n",
    "  In the second scenario vertices 1, 2, and 3 have a degree of 2 and vertices 0 and 4 have a degree of 1 and the graph is connected.  \n",
    "  Since we have the same degree for each vertex in both scenario but the graph is connected in one of them and not in the other, those graphs are cleary not the same. Therefore equal degree distributions does not guarantee that we have the same graph.**"
   ]
  },
  {
   "cell_type": "markdown",
   "metadata": {},
   "source": [
    "## Part 2\n",
    "\n",
    "**You are allowed to use any additional library here (e.g., NetworkX, PyGSP, etc.).** Be careful not to include something here and use it in part 1!"
   ]
  },
  {
   "cell_type": "markdown",
   "metadata": {},
   "source": [
    "### Question 10 &  Question 11\n",
    "\n",
    "\n",
    "- Choose a random network model that fits you network well. Explain your choice. \n",
    "\n",
    "**Hint:** Check lecture notes for different network models and their properties. Your choice should be made based on at least one property you'd expect to be similar.\n",
    "\n",
    "\n",
    "- Explain (in short) how the chosen model works."
   ]
  },
  {
   "cell_type": "code",
   "execution_count": null,
   "metadata": {},
   "outputs": [],
   "source": [
    "import networkx as nx\n",
    "import collections"
   ]
  },
  {
   "cell_type": "code",
   "execution_count": null,
   "metadata": {},
   "outputs": [],
   "source": [
    "# function to plot adjacency matrix and draw network\n",
    "def plot_Adjacency_w_Network(A, G, title=\"none\"):\n",
    "    f, axs = plt.subplots(1,2,figsize=(13,13))\n",
    "    plt.subplot(221)\n",
    "    plt.spy(A, markersize=1)\n",
    "    plt.title('Adjacency '+ title)\n",
    "    \n",
    "    plt.subplot(222)\n",
    "    nx.draw(G, pos=nx.shell_layout(G), with_labels=True, font_weight='bold', node_color=\"yellow\")\n",
    "    plt.title(title)\n",
    "    plt.show()"
   ]
  },
  {
   "cell_type": "code",
   "execution_count": null,
   "metadata": {},
   "outputs": [],
   "source": [
    "# function to plot adjacency comparison btw model and real world model\n",
    "def compare_adjacency(model_A, title):\n",
    "    adjacency =  np.load('../data/adj_matr.npy')\n",
    "    adjacency_watts_strogatz = np.load('../data/'+model_A+'')\n",
    "    edges = np.count_nonzero(np.tril(adjacency_watts_strogatz))\n",
    "    \n",
    "    # ba-preferential-only\n",
    "    plt.figure(figsize=(20, 20))\n",
    "    plt.subplot(121)\n",
    "    plt.spy(adjacency_watts_strogatz, markersize=1)\n",
    "    plt.title(''+ title +' ('+str(n)+', '+str(edges)+')')\n",
    "\n",
    "    # real model\n",
    "    plt.subplot(122)\n",
    "    plt.spy(adjacency, markersize=1)\n",
    "    plt.title('Flight routes graph ('+str(n_nodes)+', '+str(n_edges)+')')\n",
    "    plt.show()"
   ]
  },
  {
   "cell_type": "markdown",
   "metadata": {},
   "source": [
    "##  Network properties to discuss on each model\n",
    "- Degree distribution\n",
    "- size & growth\n",
    "- randomness\n",
    "\n",
    "##### 1. Erdös-Rényi model\n",
    "##### 2. Watts-Strogatz model\n",
    "##### 3. Barabási-Albert Model\n",
    "###### 3.1. Barabási-Albert Model - Growth-only model\n",
    "###### 3.1. Barabási-Albert Model - Preferential attachment-only model"
   ]
  },
  {
   "cell_type": "markdown",
   "metadata": {},
   "source": [
    "## 1. Erdös-Rényi model"
   ]
  },
  {
   "cell_type": "code",
   "execution_count": null,
   "metadata": {},
   "outputs": [],
   "source": [
    "n = 30\n",
    "p = 0.5\n",
    "seed = 12\n",
    "'''\n",
    "    n : int\n",
    "        The number of nodes.\n",
    "    p : float\n",
    "        Probability for edge creation.\n",
    "'''\n",
    "G = nx.gnp_random_graph(n, p, seed=12, directed=False)\n",
    "A = nx.adj_matrix(G)\n",
    "plot_Adjacency_w_Network(A,G,\"Erdös-Rényi model\")"
   ]
  },
  {
   "cell_type": "markdown",
   "metadata": {},
   "source": [
    "#### Erdös-Rényi model does not fit good.\n",
    "    \n",
    "    a random network model is a network where each pair of nodes is connected with probability p\n",
    "    random: YES \n",
    "\n",
    "#### Model fit\n",
    "\n",
    "- bad representation of real world\n",
    "- model does not generate local clusters\n",
    "- in general ER graphs have a low clustering coefficient, which we have in our real model\n",
    "- have a constant, random, and independent probability of two nodes being connected\n",
    "- no hubs as in scale free networks\n",
    "   - The existence of hubs is the biggest difference between random networks and scale-free networks."
   ]
  },
  {
   "cell_type": "markdown",
   "metadata": {},
   "source": [
    "## 2. Watts-Strogatz model"
   ]
  },
  {
   "cell_type": "code",
   "execution_count": null,
   "metadata": {},
   "outputs": [],
   "source": [
    "n = 30\n",
    "k = 8\n",
    "p = 0.3\n",
    "seed = 12\n",
    "'''\n",
    "    n : int\n",
    "        The number of nodes\n",
    "    k : int\n",
    "        Each node is connected to k nearest neighbors in ring topology\n",
    "    p : float\n",
    "        The probability of rewiring each edge (0 = only neighbours, 1 = all nodes)\n",
    "'''\n",
    "G = nx.watts_strogatz_graph(n, k, p, seed)\n",
    "A = nx.adj_matrix(G)\n",
    "plot_Adjacency_w_Network(A,G,\"Watts-Strogatz model\")"
   ]
  },
  {
   "cell_type": "markdown",
   "metadata": {},
   "source": [
    "#### Watts-Strogatz model fits better than the first one. \n",
    "\n",
    "    Extension of the random network model for \n",
    "        1. small world property\n",
    "        2. high clustering\n",
    "    random: YES\n",
    "\n",
    "\n",
    "#### Model Fit:\n",
    "We can interpret it as follows: Each airport node is connected to k other neighbouring airports. k represents the average degree of each airpot node.\n",
    "\n",
    "Furthermore the probability p (between 0 and 1) describes the rewiring probability that allows each node to connect to any other airport node of the whole network exept itself. This is basically how clusters evolve in the undirected graph using this model.\n",
    "\n",
    "If p is zero the airport is connected to its closest k airport nodes.\n",
    "If p is one each connection gets rewired/redirected.\n",
    "\n",
    "- (+) in a real world model redirections probably happen but not so often as in this model.\n",
    "- (+) the idea of the closest neighbours is pretty similar and logic to the airport-flight network\n",
    "- (-) there is no network growth"
   ]
  },
  {
   "cell_type": "markdown",
   "metadata": {},
   "source": [
    "## 3. Barabási-Albert model"
   ]
  },
  {
   "cell_type": "code",
   "execution_count": null,
   "metadata": {},
   "outputs": [],
   "source": [
    "n = 30\n",
    "m = 5\n",
    "seed = 12\n",
    "'''\n",
    "    n : int\n",
    "        Number of nodes\n",
    "    m : int\n",
    "        Number of edges to attach from a new node to existing nodes\n",
    "'''\n",
    "G = nx.barabasi_albert_graph(n, m, seed)\n",
    "A = nx.adj_matrix(G)\n",
    "plot_Adjacency_w_Network(A,G,\"Barabási-Albert model\")"
   ]
  },
  {
   "cell_type": "markdown",
   "metadata": {},
   "source": [
    "#### The Barabási-Albert Model fits better than the first two models.\n",
    "    \n",
    "    Growth and preferential attachment cannot be captured by random networks\n",
    "        1. growth only model\n",
    "        2. preferential attachment only model\n",
    "    random: NO -> scale free\n",
    "    \n",
    "The The Barabási-Albert Model starts off by creating a m times m matrix in which each node is connected to each other. After the initial generation of the mxm matrix, for each iteration, a new node with m edges/connections gets added to the network, until the desired network size of n gets reached.\n",
    "\n",
    "To decide to which node a new node connects this model uses preferential attachment probability, which is based on the each degree of the currently existing nodes of the network. Therefore the new node tends to connect to nodes with higher degree as their preferential attachment probability is higher.\n",
    "\n",
    "#### Model Fit:\n",
    "- (+) growth & size: a new airport gets added and creates not necessarily m nodes but at least one\n",
    "- (+) preferential attachment: similar to our real network as big airports are more \"attractive\"  probably for \n",
    "economic reasons\n",
    "- (-) scale-free and therefore not a random model"
   ]
  },
  {
   "cell_type": "markdown",
   "metadata": {},
   "source": [
    "## 3.1. Barabási-Albert Model - Growth-only model"
   ]
  },
  {
   "cell_type": "code",
   "execution_count": null,
   "metadata": {},
   "outputs": [],
   "source": [
    "# no preferential process!\n",
    "def barabasi_albert_growth_only(n, m, seed=None):\n",
    "\n",
    "    np.random.seed(seed)\n",
    "\n",
    "    # create m*m matrix with m connections -> full\n",
    "    adjacency = np.ones((m+1,m+1))\n",
    "    \n",
    "    # delete diagonal\n",
    "    np.fill_diagonal(adjacency, 0)\n",
    "    \n",
    "    # loop till graph is n\n",
    "    for i in range(m+2, n):\n",
    "\n",
    "        # add node each iteration and resize array by one col and row\n",
    "        b = np.zeros((i,i))\n",
    "        b[:-1,:-1] = adjacency\n",
    "        adjacency = b\n",
    "                \n",
    "        # sum of all degrees of current adj\n",
    "        sum_deg = np.count_nonzero(adjacency)\n",
    "\n",
    "        # equal pref attachment probabilities for each old node\n",
    "        p = [1/adjacency.shape[0]-1] * (adjacency.shape[0]-1)\n",
    "        \n",
    "        # normalize so that the sum equals one for np.choice\n",
    "        pp = np.array(p)\n",
    "        pp /= pp.sum()\n",
    "\n",
    "        # add m edges to the new node\n",
    "        while np.count_nonzero(adjacency[i-1]) <= m:  \n",
    "            # random choice of the preferential attachment\n",
    "            new_edge_index = np.random.choice(len(pp), 1, p=pp)\n",
    "            adjacency[int(new_edge_index)][i-1] = 1\n",
    "            adjacency[i-1][int(new_edge_index)] = 1\n",
    "            \n",
    "    np.fill_diagonal(adjacency, 0)\n",
    "    return adjacency"
   ]
  },
  {
   "cell_type": "code",
   "execution_count": null,
   "metadata": {},
   "outputs": [],
   "source": [
    "n = 50\n",
    "m = 5\n",
    "seed = 12\n",
    "ba_go = barabasi_albert_growth_only(n, m, seed)\n",
    "G = nx.from_numpy_matrix(ba_go)\n",
    "A = nx.adj_matrix(G)\n",
    "plot_Adjacency_w_Network(A,G,\"Barabási-Albert Model - Growth-only model\")"
   ]
  },
  {
   "cell_type": "markdown",
   "metadata": {},
   "source": [
    "#### Barabási-Albert Model - Growth-only model\n",
    "#### How does the BA - Growth-only model?\n",
    "- the lack of growth eliminates its originally scale free character and is therefore random\n",
    "\n",
    "1. we start of with a fully connected m times m matrix\n",
    "2. we grow the matrix by one node for each iteration\n",
    "3. each node has the same probability to be chosen \n",
    "4. the chosen node gets assigned m edges\n",
    "\n",
    "\n",
    "#### Model Fit:\n",
    "- (+) growth & size: a new airport gets added and creates not necessarily m nodes but at least one\n",
    "- (+/-) preferential attachment: no preferential attachment but therefore a random network\n",
    "- (+) random"
   ]
  },
  {
   "cell_type": "markdown",
   "metadata": {},
   "source": [
    "## 3.2. The Barabási-Albert Model - Preferential attachment-only model"
   ]
  },
  {
   "cell_type": "code",
   "execution_count": null,
   "metadata": {},
   "outputs": [],
   "source": [
    "# no growth process!\n",
    "def barabasi_albert_preferential_attachment_only(n, m, seed=None):\n",
    "    \n",
    "    #print(\"max m: \",(n*(n-1))/2)\n",
    "    if m>((n*(n-1))/2):\n",
    "        print(\"too large\")\n",
    "        return False\n",
    "    \n",
    "    np.random.seed(seed)\n",
    "\n",
    "    # create empty nXn matrix with diagonal inital connection = 1 for each node\n",
    "    adjacency = np.zeros((n,n))\n",
    "    np.fill_diagonal(adjacency, 1)\n",
    "\n",
    "    # add m edges to random nodes\n",
    "    for i in range(m):\n",
    "\n",
    "        # sum of all degrees of current adj\n",
    "        sum_deg = np.count_nonzero(adjacency)\n",
    "\n",
    "        # calc pref attachment probabilities for each old node\n",
    "        p = []\n",
    "        for k in range(0, adjacency.shape[0]):\n",
    "            x = np.count_nonzero(adjacency[k])/sum_deg\n",
    "            p.append(x)\n",
    "            \n",
    "        # normalize so that the sum equals one for np.choice\n",
    "        pp = np.array(p)\n",
    "        pp /= pp.sum()\n",
    "\n",
    "        # select a random node\n",
    "        node_select = np.random.randint(0,n-1)\n",
    "        #print(node_select)\n",
    "        if np.count_nonzero(adjacency[node_select]) >= n-1:\n",
    "            while True:\n",
    "                node_select = np.random.randint(0,n-1)\n",
    "                if np.count_nonzero(adjacency[node_select]) is not n:\n",
    "                    break\n",
    "        \n",
    "        # add m edges to the new node\n",
    "        new_edge_index = np.random.choice(len(pp), 1, p=pp)\n",
    "        \n",
    "        # add 1 connection per iteration\n",
    "        if (adjacency[int(new_edge_index)][node_select] == 1):            \n",
    "            while True:  \n",
    "                # random choice of the preferential attachment\n",
    "                new_edge_index = np.random.choice(len(pp), 1, p=pp)\n",
    "                if (adjacency[int(new_edge_index)][node_select] == 0):\n",
    "                    adjacency[int(new_edge_index)][node_select] = 1\n",
    "                    adjacency[node_select][int(new_edge_index)] = 1\n",
    "                    break\n",
    "        else:     \n",
    "            adjacency[int(new_edge_index)][node_select] = 1\n",
    "            adjacency[node_select][int(new_edge_index)] = 1\n",
    "\n",
    "    np.fill_diagonal(adjacency, 0)\n",
    "    return adjacency\n"
   ]
  },
  {
   "cell_type": "code",
   "execution_count": null,
   "metadata": {},
   "outputs": [],
   "source": [
    "n = 50\n",
    "m = 200\n",
    "seed = 12\n",
    "ba_go = barabasi_albert_preferential_attachment_only(n,m)\n",
    "G = nx.from_numpy_matrix(ba_go)\n",
    "A = nx.adj_matrix(G)\n",
    "plot_Adjacency_w_Network(A,G,\"The Barabási-Albert Model - Preferential attachment-only model\")\n",
    "\n",
    "count_edges = np.count_nonzero(np.tril(ba_go))\n",
    "print(\"edges: \", count_edges, \"nodes:\", n)"
   ]
  },
  {
   "cell_type": "markdown",
   "metadata": {},
   "source": [
    "#### Barabási-Albert Model - Preferential attachment-only model\n",
    "#### How does the BA - Preferential attachment-only model work?\n",
    "- the lack of preferential attachment eliminates its originally scale free character and is therefore random\n",
    "\n",
    "1. this model takes two arguments, the size of the network n which is static, m edges that get added to the network\n",
    "2. each iteration we add a new edge to a randomly with preferential attachment chosen node\n",
    "    - this means our network has n nodes and m edges\n",
    "3. we only add a single edge per iteration until we reach m edges in the network\n",
    "\n",
    "#### Model Fit:\n",
    "- (+/-) fixed growth and therefore fixed size, taking away this aspect from the OG model makes it a random network\n",
    "- (+) preferential attachment: similar to our real network as big airports are more \"attractive\"  probably for \n",
    "economic reasons\n",
    "- (+) random"
   ]
  },
  {
   "cell_type": "markdown",
   "metadata": {},
   "source": [
    "## Model ranking according to best fit\n",
    "1. Barabási-Albert (not random)\n",
    "2. making Barabási-Albert random\n",
    "    - The Barabási-Albert Model - Growth-only model\n",
    "    - The Barabási-Albert Model - Preferential attachment-only model\n",
    "3. Watts-Strogatz\n",
    "4. Erdös-Rényi\n",
    "\n",
    "\n",
    "        - The Barabási-Albert Model - Preferential attachment-only model\n",
    "Nowadays new airports do not get built too often as they already existed for years or decades. According to Wikipedia 30 airports are currently under construction. Most of the time airports get expanded which leads to more connectivity and therefore we consider the growth aspect as secondary.\n",
    "\n",
    "In reality it is rather the case that a airport expands its connections to other airports. That is due to the large variety of airlines, which adapt their strategies according to new touristic destinations or in general economic reasons.\n",
    "\n",
    "            - Watts Strogatz Model\n",
    "The chance that a airport is connected to its \"neighbours\" is high in real world.\n",
    "\n",
    "#### .. therefore we decided to compare multiple models..."
   ]
  },
  {
   "cell_type": "markdown",
   "metadata": {},
   "source": [
    "### Question 12\n",
    "\n",
    "Create a random graph from that model, such that the number of nodes is the same as in your graph."
   ]
  },
  {
   "cell_type": "code",
   "execution_count": null,
   "metadata": {},
   "outputs": [],
   "source": [
    "print(\"The real model has \", n_nodes, \" nodes and \", n_edges, \" edges.\")"
   ]
  },
  {
   "cell_type": "markdown",
   "metadata": {},
   "source": [
    "### Watts Strogatz"
   ]
  },
  {
   "cell_type": "code",
   "execution_count": null,
   "metadata": {},
   "outputs": [],
   "source": [
    "n = n_nodes\n",
    "k = 12\n",
    "p = 0.15\n",
    "seed = None\n",
    "\n",
    "def watts_strogatz(n,k,p,seed):\n",
    "    G = nx.watts_strogatz_graph(n, k, p, seed)\n",
    "    A = nx.adj_matrix(G)\n",
    "    np.save(\"../data/watts_strogatz\", A.toarray())\n",
    "    return G,A\n",
    "\n",
    "#G,A = watts_strogatz(n,k,p,seed)"
   ]
  },
  {
   "cell_type": "code",
   "execution_count": null,
   "metadata": {},
   "outputs": [],
   "source": [
    "compare_adjacency(\"watts_strogatz.npy\", \"watts_strogatz\")"
   ]
  },
  {
   "cell_type": "markdown",
   "metadata": {},
   "source": [
    "### Barabási-Albert Model - Preferential attachment-only model"
   ]
  },
  {
   "cell_type": "code",
   "execution_count": null,
   "metadata": {},
   "outputs": [],
   "source": [
    "# uncomment to run - takes 5min\n",
    "n = n_nodes\n",
    "m = n_edges\n",
    "def ba_preferential_only(n,m):\n",
    "    ba_pa = barabasi_albert_preferential_attachment_only(n,m)\n",
    "    G = nx.from_numpy_matrix(ba_pa)\n",
    "    A = nx.adj_matrix(G)\n",
    "    np.save(\"../data/adj_matr_ba_preferential_attachment_only\", A.toarray())\n",
    "    return G,A\n",
    "\n",
    "#G, A, ba_pa_n_edges = ba_preferential_only(n,m)"
   ]
  },
  {
   "cell_type": "code",
   "execution_count": null,
   "metadata": {},
   "outputs": [],
   "source": [
    "compare_adjacency(\"adj_matr_ba_preferential_attachment_only.npy\", \"barabasi_albert_preferential_attachment_only\")"
   ]
  },
  {
   "cell_type": "markdown",
   "metadata": {},
   "source": [
    "### Barabási-Albert Model - Growth-only model"
   ]
  },
  {
   "cell_type": "code",
   "execution_count": null,
   "metadata": {},
   "outputs": [],
   "source": [
    "# need to solve for m: n_edges = m * (m - 1) / 2 + (n_nodes - m) * m\n",
    "# m^2 * (-1/2) + m * (-1/2 + n_nodes) - n_edges == 0\n",
    "roots = np.roots([-1/2, -1/2 + n_nodes, -n_edges])\n",
    "m_calc = roots[roots < n_nodes][0].round().astype(int)\n",
    "print(\"We take m =\", m_calc)"
   ]
  },
  {
   "cell_type": "code",
   "execution_count": null,
   "metadata": {},
   "outputs": [],
   "source": [
    "n = int(n_nodes)\n",
    "m = m_calc\n",
    "\n",
    "def ba_growth_only(n,m):\n",
    "    ba_go = barabasi_albert_growth_only(n, m).astype(int)\n",
    "    G = nx.from_numpy_matrix(ba_go)\n",
    "    A = nx.adj_matrix(G)\n",
    "    np.save(\"../data/adjacency_ba_growth_only\", A.toarray())\n",
    "    return G,A\n",
    "\n",
    "#G,A = ba_growth_only(n,m) "
   ]
  },
  {
   "cell_type": "code",
   "execution_count": null,
   "metadata": {},
   "outputs": [],
   "source": [
    "compare_adjacency(\"adjacency_ba_growth_only.npy\", \"barabasi_albert_preferential_attachment_only\")"
   ]
  },
  {
   "cell_type": "markdown",
   "metadata": {},
   "source": [
    "### Question 13\n",
    "\n",
    "Check the properties you expected to be similar, and compare to your network."
   ]
  },
  {
   "cell_type": "markdown",
   "metadata": {},
   "source": [
    "Are the results what you expected? Explain."
   ]
  },
  {
   "cell_type": "code",
   "execution_count": null,
   "metadata": {},
   "outputs": [],
   "source": [
    "adjacency =  np.load('../data/adj_matr.npy')\n",
    "adjacency_watts_strogatz = np.load('../data/watts_strogatz.npy')\n",
    "adj_matr_ba_preferential_attachment_only = np.load('../data/adj_matr_ba_preferential_attachment_only.npy')\n",
    "adjacency_ba_growth_only = np.load('../data/adjacency_ba_growth_only.npy')"
   ]
  },
  {
   "cell_type": "markdown",
   "metadata": {},
   "source": [
    "### Clustering Coeficcient"
   ]
  },
  {
   "cell_type": "code",
   "execution_count": null,
   "metadata": {},
   "outputs": [],
   "source": [
    "G_og = nx.from_numpy_matrix(adjacency)\n",
    "C_og = nx.average_clustering(G_og)\n",
    "print(\"clustering-coeficcient target real model                :\", C_og)\n",
    "\n",
    "G_stro = nx.from_numpy_matrix(adjacency_watts_strogatz)\n",
    "C_stro = nx.average_clustering(G_stro)\n",
    "print(\"clustering-coeficcient watts strogatz                   :\", C_stro)\n",
    "\n",
    "G_ba_pa = nx.from_numpy_matrix(adj_matr_ba_preferential_attachment_only)\n",
    "C_ba_pa = nx.average_clustering(G_ba_pa)\n",
    "print(\"clustering-coeficcient ba_preferential only model       :\", C_ba_pa)\n",
    "\n",
    "G_ba_go = nx.from_numpy_matrix(adjacency_ba_growth_only)\n",
    "C_ba_go = nx.average_clustering(G_ba_go)\n",
    "print(\"clustering-coeficcient ba_growth only model             :\", C_ba_go)"
   ]
  },
  {
   "cell_type": "markdown",
   "metadata": {},
   "source": [
    "**We expected the watts strogatz model to have a similar clustering-coefficient since in this models nodes tend to be connected the their closest neighbour, same as in our real world model.**"
   ]
  },
  {
   "cell_type": "markdown",
   "metadata": {},
   "source": [
    "### Degree Distribution & Degree Rank"
   ]
  },
  {
   "cell_type": "code",
   "execution_count": null,
   "metadata": {},
   "outputs": [],
   "source": [
    "def plot_degree_dist(liste, titles):\n",
    "    colors = [\"r\",\"g\",\"b\",\"y\"]\n",
    "    subplot = 221\n",
    "    plt.figure(figsize=(20, 5))\n",
    "    \n",
    "    for graph in range(0,len(liste)):\n",
    "        degree_sequence = sorted([d for n, d in liste[graph].degree()], reverse=True)  # degree sequence\n",
    "        degreeCount = collections.Counter(degree_sequence)\n",
    "        deg, cnt = zip(*degreeCount.items())\n",
    "        \n",
    "        plt.subplot(subplot)\n",
    "        subplot=subplot+1\n",
    "        plt.title(\"degree distribution \"+titles[graph])        \n",
    "        plt.bar(deg, cnt, width=0.80, color=colors[graph])\n",
    "    plt.tight_layout()\n",
    "\n",
    "    subplot = 221\n",
    "    plt.figure(figsize=(20, 5))\n",
    "    for graph in range(0,len(liste)):\n",
    "        degree_sequence = sorted([d for n, d in liste[graph].degree()], reverse=True)\n",
    "        # print \"Degree sequence\", degree_sequence\n",
    "        dmax = max(degree_sequence)\n",
    "\n",
    "        plt.subplot(subplot)\n",
    "        subplot=subplot+1\n",
    "        plt.loglog(degree_sequence, 'b-', marker='o', color=colors[graph])\n",
    "        plt.title(\"Degree rank \"+titles[graph])\n",
    "        plt.ylabel(\"degree\")\n",
    "        plt.xlabel(\"rank\")\n",
    "    plt.tight_layout()\n",
    "\n",
    "    plt.show()"
   ]
  },
  {
   "cell_type": "code",
   "execution_count": null,
   "metadata": {},
   "outputs": [],
   "source": [
    "plot_degree_dist([G_og, G_ba_pa, G_ba_go, G_stro], [\"Original Graph\",\"G_ba_preferential_attachment\",\"G_ba_growth_only\", \"Watts Strogatz\"])"
   ]
  },
  {
   "cell_type": "markdown",
   "metadata": {},
   "source": [
    "**We can see that the only model with a similar degree distribution is the barabasi albert with no preferential attachment. This was to be expected since this model forms in a similar way as our real world network: Bigger airports appeared first and then smaller airports were connected to them. The difference is that the model is missing some sort of preferential attachment: in the real world small airports tend to connect with bigger airport with much higher probability than with other small airports. This is why the scale-free barabasi albert model with both growth and preferential attachment would have best modeled the degree distribution.**"
   ]
  },
  {
   "cell_type": "code",
   "execution_count": null,
   "metadata": {},
   "outputs": [],
   "source": [
    "og_degree_dist = np.array([d for n,d in G_og.degree])\n",
    "ba_pa_degree_dist = np.array([d for n,d in G_ba_pa.degree])\n",
    "ba_go_degree_dist = np.array([d for n,d in G_ba_go.degree])\n",
    "stro_degree_dist = np.array([d for n,d in G_stro.degree])"
   ]
  },
  {
   "cell_type": "code",
   "execution_count": null,
   "metadata": {},
   "outputs": [],
   "source": [
    "print('Degree distributions:\\n')\n",
    "print('Original graph:\\t\\t\\tmean:', np.mean(og_degree_dist), '\\tstandard deviation:', np.std(og_degree_dist))\n",
    "print('BA_preferential_attachment:\\tmean:', np.mean(ba_pa_degree_dist), '\\tstandard deviation:', np.std(ba_pa_degree_dist))\n",
    "print('BA_growth_only:\\t\\t\\tmean:', np.mean(ba_go_degree_dist), '\\tstandard deviation:', np.std(ba_go_degree_dist))\n",
    "print('Watts Strogatz:\\t\\t\\tmean:', np.mean(stro_degree_dist), '\\t\\t\\tstandard deviation:', np.std(stro_degree_dist))\n",
    "print('Barabasi-Albert:\\t\\tmean:', np.mean(ba_degrees), '\\tstandard deviation:', np.std(ba_degrees))"
   ]
  },
  {
   "cell_type": "markdown",
   "metadata": {},
   "source": [
    "**It was to be expected that the mean degree of each node would be similar for each model since fix the number of nodes and try to have a similar number of edges, but here the standard deviation represents the size and number of hubs in the network. As expected both random ba models represent the hubs much better than the watts strogatz model. Also as previously stated the Barabasi-Albert model with both growth and preferential attachment, even though it is not a random model, represents hubs much better than any random network model.**"
   ]
  }
 ],
 "metadata": {
  "kernelspec": {
   "display_name": "Python 3",
   "language": "python",
   "name": "python3"
  },
  "language_info": {
   "codemirror_mode": {
    "name": "ipython",
    "version": 3
   },
   "file_extension": ".py",
   "mimetype": "text/x-python",
   "name": "python",
   "nbconvert_exporter": "python",
   "pygments_lexer": "ipython3",
   "version": "3.6.2"
  }
 },
 "nbformat": 4,
 "nbformat_minor": 2
}
