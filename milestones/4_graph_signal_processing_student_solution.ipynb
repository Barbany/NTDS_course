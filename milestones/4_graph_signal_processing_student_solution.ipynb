{
 "cells": [
  {
   "cell_type": "markdown",
   "metadata": {},
   "source": [
    "# [NTDS'18] milestone 4: graph signal processing\n",
    "[ntds'18]: https://github.com/mdeff/ntds_2018\n",
    "\n",
    "[Rodrigo Pena](https://people.epfl.ch/254838), [EPFL LTS2](http://lts2.epfl.ch)"
   ]
  },
  {
   "cell_type": "markdown",
   "metadata": {},
   "source": [
    "## Students\n",
    "\n",
    "* Team: `Team 2`\n",
    "* Students: `Michael Allemann, Roman Bachmann, Liamarcia Bifano, Virginia Bordignon`\n",
    "* Dataset: `US Senators`"
   ]
  },
  {
   "cell_type": "markdown",
   "metadata": {},
   "source": [
    "## Rules\n",
    "\n",
    "* Milestones have to be completed by teams. No collaboration between teams is allowed.\n",
    "* Textual answers shall be short. Typically one to two sentences.\n",
    "* Code has to be clean.\n",
    "* You cannot import any other library than we imported.\n",
    "* When submitting, the notebook is executed and the results are stored. I.e., if you open the notebook again it should show numerical results and plots. We won't be able to execute your notebooks.\n",
    "* The notebook is re-executed from a blank state before submission. That is to be sure it is reproducible. You can click \"Kernel\" then \"Restart & Run All\" in Jupyter."
   ]
  },
  {
   "cell_type": "markdown",
   "metadata": {},
   "source": [
    "## Objective\n",
    "\n",
    "The goal of this milestone is to do some Graph Signal Processing (GSP) on the data of your project.\n",
    "\n",
    "### A note about plotting\n",
    "\n",
    "There are several questions in this milestone that ask you to plot a signal on your network.\n",
    "There are several ways from which you could approach it.\n",
    "In all cases, compute the position of the nodes a single time at the beginning, as this is likely to be a costly operation.\n",
    "Using a single layout for all the graph plots will also make it easier to compare the plots.\n",
    "Indeed, the only thing changing between plots is the signal displayed.\n",
    "You can represent the features/labels lying on the graph via node **colors**.\n",
    "To do so, make sure to have a consistent color map throughout and remember to display a colorbar and scale in all plots, so that we can tell what numbers the colors represent.\n",
    "\n",
    "* An option is to use the **Laplacian eigenmaps** that you have seen in the previous milestone to embed your graph on the plane. For example:\n",
    "  ```\n",
    "  from matplotlib import pyplot as plt\n",
    "  plt.scatter(eigenvectors[:, 1], eigenvectors[:, 2], c=signal, alpha=0.5)\n",
    "  plt.colorbar()\n",
    "  ```\n",
    "* Another option is to use the plotting capabilities of **[NetworkX](https://networkx.github.io)**.\n",
    "  See the documentation of its [drawing methods](https://networkx.github.io/documentation/stable/reference/drawing.html).\n",
    "  For example:\n",
    "  ```\n",
    "  import networkx as nx\n",
    "  graph = nx.from_scipy_sparse_matrix(adjacency)\n",
    "  coords = nx.spring_layout(graph)  # Force-directed layout.\n",
    "  coords = eigenvectors[:, 1:3]  # Laplacian eigenmaps.\n",
    "  nx.draw_networkx_nodes(graph, coords, node_size=60, node_color=signal)\n",
    "  nx.draw_networkx_edges(graph, coords, alpha=0.3)\n",
    "  ```\n",
    "* Another option is to use the plotting capabilities of the **[PyGSP](https://github.com/epfl-lts2/pygsp)**, a Python package for Graph Signal Processing.\n",
    "  **Note that your are forbidden to use the PyGSP for anything else than plotting.**\n",
    "  See the documentation of its [plotting utilities](https://pygsp.readthedocs.io/en/stable/reference/plotting.html).\n",
    "  For example:\n",
    "  ```\n",
    "  import pygsp as pg\n",
    "  graph = pg.graphs.Graph(adjacency)\n",
    "  graph.set_coordinates('spring')  # Force-directed layout.\n",
    "  graph.set_coordinates(eigenvectors[:, 1:3])  # Laplacian eigenmaps.\n",
    "  graph.plot_signal(signal)\n",
    "  ```\n",
    "* Yet another option is to save your graph on disk, use **[Gephi](https://gephi.org)** externally, to visualize the graph, save the graph with the Gephi coordinates and finally load the nodes coordinates back into the notebook.\n",
    "\n",
    "We encourage you to try all the above methods before making your choice. Then be consistent and use only one throughout the milestone.\n",
    "NetworkX and PyGSP should already be installed in your environement. If that's not the case, install with `conda install networkx pygsp` (after activating the `ntds_2018` environment)."
   ]
  },
  {
   "cell_type": "markdown",
   "metadata": {},
   "source": [
    "## 0 - Load your network"
   ]
  },
  {
   "cell_type": "code",
   "execution_count": null,
   "metadata": {},
   "outputs": [],
   "source": [
    "%matplotlib inline"
   ]
  },
  {
   "cell_type": "markdown",
   "metadata": {},
   "source": [
    "If you get a `No module named 'pyunlocbox'` error when running the below cell, install the [pyunlocbox](https://github.com/epfl-lts2/pyunlocbox) with `conda install pyunlocbox` (after activating the `ntds_2018` environment)."
   ]
  },
  {
   "cell_type": "code",
   "execution_count": null,
   "metadata": {},
   "outputs": [],
   "source": [
    "import numpy as np\n",
    "import pandas as pd\n",
    "from scipy import sparse\n",
    "import scipy.sparse.linalg\n",
    "from matplotlib import pyplot as plt\n",
    "from pyunlocbox import functions, solvers\n",
    "import networkx as nx"
   ]
  },
  {
   "cell_type": "markdown",
   "metadata": {},
   "source": [
    "For this milestone, all we will need is a set of features/labels for each of the nodes on the network, as well as the Laplacian, $L,$ and Gradient, $\\nabla_G,$ matrices that you have computed for your network while working on milestone 3.\n",
    "\n",
    "Import those objects in the cell below (or recompute the Laplacian and Gradient from your stored adjacency matrix, if you wish).\n",
    "\n",
    "_Note_: If your features/labels are not floating-point numbers, please convert them. For example, if your data has labels \"cat\" and \"dog\" for nodes that represent cats or dogs, respectively, you may assign the number `1.0` for the label \"cat\" and the number `-1.0` for the label \"dog\".  "
   ]
  },
  {
   "cell_type": "code",
   "execution_count": null,
   "metadata": {},
   "outputs": [],
   "source": [
    "adjacency = np.loadtxt(\"../data/adjacency.csv\", delimiter=\",\")\n",
    "n_nodes =  len(adjacency)\n",
    "n_edges = int(adjacency.sum() // 2)"
   ]
  },
  {
   "cell_type": "code",
   "execution_count": null,
   "metadata": {},
   "outputs": [],
   "source": [
    "# Recomputing the Laplacian\n",
    "D = np.diag(np.sum(adjacency, 1)) # Degree matrix\n",
    "D_norm = np.diag(np.sum(adjacency, 1)**(-1/2)) \n",
    "laplacian_combinatorial =  D - adjacency\n",
    "laplacian_normalized =  D_norm @ laplacian_combinatorial @ D_norm\n",
    "\n",
    "laplacian = laplacian_normalized"
   ]
  },
  {
   "cell_type": "code",
   "execution_count": null,
   "metadata": {},
   "outputs": [],
   "source": [
    "# Computing the gradient (incident matrix S)\n",
    "S = np.zeros((n_nodes, n_edges))\n",
    "edge_idx = 0\n",
    "for i in range(n_nodes):\n",
    "    for k in range(i):\n",
    "        if adjacency[i,k] == 1.0:\n",
    "            S[i,edge_idx] = 1\n",
    "            S[k,edge_idx] = -1\n",
    "            edge_idx += 1\n",
    "            \n",
    "assert np.allclose(S @ S.T, laplacian_combinatorial)"
   ]
  },
  {
   "cell_type": "markdown",
   "metadata": {},
   "source": [
    "Here we map the three parties to unique integers to represent our label signal. \n",
    "We chose to give the Democrats a lower number and the Republicans a higher one, such that when plotting using the Matplotlib color map *\"bwr\"*, the Democrats are represented in blue, while the Republicans are red.\n",
    "\n",
    "Furthermore, we chose to label the independent party members between the two main parties."
   ]
  },
  {
   "cell_type": "code",
   "execution_count": null,
   "metadata": {},
   "outputs": [],
   "source": [
    "string_labels = pd.read_csv('../data/all_votes.csv').sort_values(by=['party']).party.values\n",
    "\n",
    "labels = np.zeros(string_labels.shape)\n",
    "labels[np.where(string_labels == 'D')] = -1 # Democrats\n",
    "labels[np.where(string_labels == 'I')] = 0  # Independent\n",
    "labels[np.where(string_labels == 'R')] = 1  # Republicans\n",
    "labels"
   ]
  },
  {
   "cell_type": "markdown",
   "metadata": {},
   "source": [
    "## 1 - Graph Fourier Transform\n",
    "\n",
    "In this section we will observe how your feature/label vector looks like in the \"Graph Fourier\" domain."
   ]
  },
  {
   "cell_type": "markdown",
   "metadata": {
    "inputHidden": false,
    "outputHidden": false
   },
   "source": [
    "### Question 1\n",
    "\n",
    "Compute the Fourier basis vectors and the Laplacian eigenvalues. Make sure to order those from smaller to larger, $\\lambda_0 \\leq \\lambda_1 \\leq \\dots \\leq \\lambda_{N-1},$ and use the same ordering for the Fourier basis vectors."
   ]
  },
  {
   "cell_type": "code",
   "execution_count": null,
   "metadata": {},
   "outputs": [],
   "source": [
    "# e: Ordered Laplacian eigenvalues\n",
    "# U: Ordered graph Fourier basis\n",
    "e, U = np.linalg.eigh(laplacian)"
   ]
  },
  {
   "cell_type": "markdown",
   "metadata": {},
   "source": [
    "The Eigenvalues are already sorted in ascending order:"
   ]
  },
  {
   "cell_type": "code",
   "execution_count": null,
   "metadata": {},
   "outputs": [],
   "source": [
    "plt.figure(figsize=(20,5))\n",
    "\n",
    "(markerline, stemlines, baseline)=plt.stem(np.arange(len(e)),e);\n",
    "plt.setp(baseline, visible=False)\n",
    "plt.ylim((0,1.2))\n",
    "plt.xlim((-1,98))\n",
    "plt.ylabel('$\\lambda$');\n",
    "plt.xlabel('Eigenvalue index');"
   ]
  },
  {
   "cell_type": "markdown",
   "metadata": {},
   "source": [
    "Plot the first 3 and the last Fourier basis vectors as signals on your graph. Clearly indicate which plot belongs to which basis vector."
   ]
  },
  {
   "cell_type": "code",
   "execution_count": null,
   "metadata": {},
   "outputs": [],
   "source": [
    "# Using the generalized second and fourth Eigenvectors as a two-dimensional embedding\n",
    "D_norm = np.diag(np.sum(adjacency, 1)**(-1/2)) \n",
    "network_emb = D_norm @ U[:,[1,3]]\n",
    "emb_x = network_emb[:,0]\n",
    "emb_y = network_emb[:,1]"
   ]
  },
  {
   "cell_type": "markdown",
   "metadata": {},
   "source": [
    "We plot the first four and two last Fourier basis vectors instead to see some more variation:"
   ]
  },
  {
   "cell_type": "code",
   "execution_count": null,
   "metadata": {},
   "outputs": [],
   "source": [
    "fig, ax = plt.subplots(3, 2, figsize=(15,17))\n",
    "\n",
    "fourier_bases = [0,1,2,3,96,97]\n",
    "\n",
    "vmax = max(-U[:,fourier_bases].min(), U[:,fourier_bases].max())\n",
    "vmin = -vmax\n",
    "\n",
    "for ax_idx, fourier_basis in enumerate(fourier_bases):\n",
    "    ax_x, ax_y = ax_idx//2, ax_idx%2\n",
    "    im = ax[ax_x, ax_y].scatter(emb_x, emb_y, c=U[:,fourier_basis], cmap='bwr', s=70, \n",
    "                                edgecolors='black', vmin=vmin, vmax=vmax)\n",
    "    ax[ax_x, ax_y].set_title('Signal = Fourier basis {}'.format(fourier_basis))\n",
    "    ax[ax_x, ax_y].set_xlabel('Generalized eigenvector embedding $U_1$')\n",
    "    ax[ax_x, ax_y].set_ylabel('Generalized eigenvector embedding $U_3$')\n",
    "    \n",
    "fig.subplots_adjust(right=0.9)\n",
    "cbar_ax = fig.add_axes([0.925, 0.15, 0.025, 0.7])\n",
    "fig.colorbar(im, cax=cbar_ax)"
   ]
  },
  {
   "cell_type": "markdown",
   "metadata": {},
   "source": [
    "In addition to our own embedding using two chosen Eigenvectors, we would also like to display all graphs using *NetworkX*'s Force-directed layout.\n",
    "This finds the party separation between the two main clusters and arranges them nicely (with one exception). \n",
    "\n",
    "Also, in this representation we can plot all the edges without distracting too much from the nodes."
   ]
  },
  {
   "cell_type": "code",
   "execution_count": null,
   "metadata": {},
   "outputs": [],
   "source": [
    "graph = nx.from_numpy_matrix(adjacency)\n",
    "coords = nx.spring_layout(graph) # Force-directed layout."
   ]
  },
  {
   "cell_type": "code",
   "execution_count": null,
   "metadata": {},
   "outputs": [],
   "source": [
    "fig, ax = plt.subplots(3, 2, figsize=(15,15))\n",
    "\n",
    "fourier_bases = [0,1,2,3,96,97]\n",
    "\n",
    "vmax = max(-U[:,fourier_bases].min(), U[:,fourier_bases].max())\n",
    "vmin = -vmax\n",
    "\n",
    "for ax_idx, fourier_basis in enumerate(fourier_bases):\n",
    "    ax_x, ax_y = ax_idx//2, ax_idx%2\n",
    "    im = nx.draw_networkx_nodes(graph, coords, node_size=60, node_color=U[:,fourier_basis], \n",
    "                                cmap='bwr', edgecolors='black', ax=ax[ax_x, ax_y], vmin=vmin, vmax=vmax)\n",
    "    nx.draw_networkx_edges(graph, coords, alpha=0.2, ax=ax[ax_x, ax_y])\n",
    "    ax[ax_x, ax_y].set_title('Signal = Fourier basis {}'.format(fourier_basis))\n",
    "    \n",
    "fig.subplots_adjust(right=0.9)\n",
    "cbar_ax = fig.add_axes([0.925, 0.15, 0.025, 0.7])\n",
    "fig.colorbar(im, cax=cbar_ax)"
   ]
  },
  {
   "cell_type": "markdown",
   "metadata": {},
   "source": [
    "### Question 2\n",
    "\n",
    "What can you observe in terms of local variations when comparing the basis vectors corresponding to the smallest eigenvalues to those corresponding to the largest eigenvalue? How would this justify the interpretation of the eigenvalues as \"graph frequencies\"?"
   ]
  },
  {
   "cell_type": "markdown",
   "metadata": {},
   "source": [
    "**Your answer here.**\n",
    "\n",
    "For the signals corresponding to the smallest eigenvalues, we can observe them having very low frequencies over the network while still having very large weights.\n",
    "The basis vectors of larger eigenvalues contain mostly lower amplitudes and slightly higher frequencies. The one outlier node has a large influence over some of the Fourier bases, like basis 2."
   ]
  },
  {
   "cell_type": "markdown",
   "metadata": {},
   "source": [
    "### Question 3\n",
    "\n",
    "Implement a function that returns the Graph Fourier Transform (GFT) of a given vector $x \\in \\mathbb{R}^{N},$ with respect to your graph, and a function that computes the corresponding inverse GFT (iGFT)."
   ]
  },
  {
   "cell_type": "code",
   "execution_count": null,
   "metadata": {
    "inputHidden": false,
    "outputHidden": false
   },
   "outputs": [],
   "source": [
    "def GFT(x):\n",
    "    return U.T @ x\n",
    "\n",
    "def iGFT(x):\n",
    "    return U @ x"
   ]
  },
  {
   "cell_type": "markdown",
   "metadata": {},
   "source": [
    "### Question 4\n",
    "\n",
    "Plot your feature/label vector as a signal on your graph"
   ]
  },
  {
   "cell_type": "code",
   "execution_count": null,
   "metadata": {},
   "outputs": [],
   "source": [
    "def coplot_network_signal(signal, title='Signal = ...'):\n",
    "    '''\n",
    "    Plots a signal on a graph using both a Laplacian embedding and the NetworkX force-directed layout.\n",
    "    \n",
    "    Args:\n",
    "        signal: The signal of each node to plot on the graph\n",
    "        title: Plot title\n",
    "    '''\n",
    "    fig, ax = plt.subplots(1, 2, figsize=(16,7))\n",
    "        \n",
    "    vmax = max(-np.nanmin(signal), np.nanmax(signal))\n",
    "    vmin = -vmax\n",
    "\n",
    "    im = ax[0].scatter(emb_x, emb_y, c=signal, cmap='bwr', s=70, edgecolors='black', \n",
    "                       vmin=vmin, vmax=vmax)\n",
    "    ax[0].set_title('Laplacian Embedding')\n",
    "    ax[0].set_xlabel('Generalized eigenvector embedding $U_1$')\n",
    "    ax[0].set_ylabel('Generalized eigenvector embedding $U_3$')\n",
    "\n",
    "    nx.draw_networkx_nodes(graph, coords, node_size=60, node_color=signal, cmap='bwr', \n",
    "                           edgecolors='black', ax=ax[1], vmin=vmin, vmax=vmax)\n",
    "    nx.draw_networkx_edges(graph, coords, alpha=0.2, ax=ax[1])\n",
    "    ax[1].set_title('NetworkX Force-directed layout')\n",
    "\n",
    "    fig.suptitle(title, fontsize=16)\n",
    "\n",
    "    fig.subplots_adjust(right=0.9)\n",
    "    cbar_ax = fig.add_axes([0.925, 0.15, 0.025, 0.7])\n",
    "    fig.colorbar(im, cax=cbar_ax)"
   ]
  },
  {
   "cell_type": "code",
   "execution_count": null,
   "metadata": {},
   "outputs": [],
   "source": [
    "coplot_network_signal(labels, title='Signal = Ground truth labels')"
   ]
  },
  {
   "cell_type": "markdown",
   "metadata": {},
   "source": [
    "Plot the absolute values of the GFT of your feature/label signal as a function of the graph eigenvalues. Make sure to add a marker indicating the position of each graph eigenvalue, and remember to properly name the axes.\n",
    "\n",
    "*We plot the signal with respect to the (normalized) Eigenvalue frequency as well as the respective index.*"
   ]
  },
  {
   "cell_type": "code",
   "execution_count": null,
   "metadata": {},
   "outputs": [],
   "source": [
    "plt.figure(figsize=(20,8))\n",
    "\n",
    "(markerline, stemlines, baseline)=plt.stem(np.arange(len(e)),abs(GFT(labels)));\n",
    "plt.setp(baseline, visible=False)\n",
    "plt.ylim((0,10))\n",
    "plt.xlim((-1,98))\n",
    "plt.title('Graph Fourier Transform of the real label signal')\n",
    "plt.ylabel('$|U^T x|$');\n",
    "plt.xlabel('Eigenvalue index');"
   ]
  },
  {
   "cell_type": "code",
   "execution_count": null,
   "metadata": {},
   "outputs": [],
   "source": [
    "plt.figure(figsize=(20,8))\n",
    "\n",
    "(markerline, stemlines, baseline)=plt.stem(e,abs(GFT(labels)));\n",
    "plt.setp(baseline, visible=False)\n",
    "plt.ylim((0,10))\n",
    "plt.title('Graph Fourier Transform of the real label signal')\n",
    "plt.ylabel('$|U^T x|$');\n",
    "plt.xlabel('Eigenvalue frequency');"
   ]
  },
  {
   "cell_type": "markdown",
   "metadata": {},
   "source": [
    "### Question 5\n",
    "\n",
    "Discuss the behavior of the GFT that you plotted in the last question via comparing the plot of your label signal and those of the Fourier basis of Question 1. Would you consider your labels a \"low-pass\" or \"high-pass\" signal, or yet something else entirely?"
   ]
  },
  {
   "cell_type": "markdown",
   "metadata": {},
   "source": [
    "**Your answer here.**\n",
    "\n",
    "We observe one very strong value corresponding to eigenvalue 1 with several smaller peaks located in the lower and upper 20 eigenvalues. \n",
    "This main peak represents a single, very smooth transition over the whole network between our labels of -1 and 1.\n",
    "This is coherent with the underlying assumption that Democrats and Republicans form two internally similar but opposing voting patterns.\n",
    "Indeed, comparing the above plot of our ground truth labels with the plot of Fourier basis 1 shows them being very similar.\n",
    "\n",
    "We would consider our labels as a \"low-pass\" signal, as most mass is concentrated in the very low frequencies, with some noise present in the upper end of the spectrum."
   ]
  },
  {
   "cell_type": "markdown",
   "metadata": {
    "code_folding": []
   },
   "source": [
    "## 2 - Filtering on graphs\n",
    "\n",
    "In this section we will check how filtered Dirac impulses diffuse on your graph."
   ]
  },
  {
   "cell_type": "markdown",
   "metadata": {
    "inputHidden": false,
    "outputHidden": false
   },
   "source": [
    "### Question 6 \n",
    "\n",
    "Implement the following three filter kernels and the graph filtering operation.\n",
    "\n",
    "- The **heat kernel** is supposed to take in a vector of eigenvalues `e` and a parameter `t` and output a vector of evaluations of the heat kernel at those eigenvalues (see the course slides for help).\n",
    "- The **inverse filter** kernel is supposed to take in a vector of eigenvalues `e` and a parameter `t` and implement spectrally the  filter defined in the node domain by $f_{out}  = (I + t L)^{-1} f_{in},$ where $f_{in}, f_{out} \\in \\mathbb{R}^{N}$ are, repectively, the input and output signals to the filter.\n",
    "- The **rectangle kernel** takes in a vector of eigenvalues `e` and parameters `l_min` and `l_max` and returns `1.0` at coordinates satisfying $(e[l] \\geq l_{min}) \\wedge (e[l] \\leq l_{max}),$ and `0.0` otherwise.\n",
    "- The **graph filtering** operation takes a graph signal $x \\in \\mathbb{R}^{N}$, a spectral graph `kernel` and a set of keyworded variables, and returns the corresponding filtered signal.\n",
    "    - _Hint:_ Remember that you have implemented the `GFT` and `iGFT` operations in Question 3.\n",
    "    - The `**kwargs` is a placeholder to collect supplementary pairs of keyword-values that are not known by the implementation before execution time.\n",
    "      The `kwargs` variable is a dictionary whose keyes and values are the parameter names and values.\n",
    "      This is useful to allow both `graph_filter(x, heat_kernel, tau=1.0)` and `graph_filter(x, rectangle_kernel, lambda_min=0.0, lambda_max=1.0)` to be valid calls from the same implementation.\n",
    "      One can then defer the keyword-value assignment to the `kernel` call: `foo = kernel(bar, **kwargs)`."
   ]
  },
  {
   "cell_type": "code",
   "execution_count": null,
   "metadata": {
    "inputHidden": false,
    "outputHidden": false
   },
   "outputs": [],
   "source": [
    "def heat_kernel(e, t):\n",
    "    return np.exp(-t * e)\n",
    "\n",
    "def inverse_kernel(e, t):\n",
    "    return 1/(1 + t*e)\n",
    "\n",
    "def rectangle_kernel(e, l_min, l_max):\n",
    "    return ((e >= l_min) & (e <= l_max)).astype(float)\n",
    "\n",
    "def graph_filter(x, kernel, **kwargs):\n",
    "    return iGFT(kernel(e, **kwargs) * GFT(x))"
   ]
  },
  {
   "cell_type": "markdown",
   "metadata": {},
   "source": [
    "### Question 7\n",
    "\n",
    "Plot all three filter kernels in the spectral domain. Remember to properly name the axes and title the plots. Choose filter parameters that best approximate the behavior of the GFT of your feature/label signal (as seen in Question 4).\n",
    "\n",
    "*We plot the signal with respect to the (normalized) Eigenvalue frequency as well as the respective index.*"
   ]
  },
  {
   "cell_type": "code",
   "execution_count": null,
   "metadata": {},
   "outputs": [],
   "source": [
    "fig, ax = plt.subplots(3, 1, figsize=(20,16))\n",
    "\n",
    "kernels = {\n",
    "    'Heat kernel': heat_kernel(e,5),\n",
    "    'Inverse kernel': inverse_kernel(e,10),\n",
    "    'Rectangular kernel': rectangle_kernel(e,0.1,0.8)\n",
    "}\n",
    "\n",
    "for idx, (kernel_name, kernel) in enumerate(kernels.items()):    \n",
    "    (markerline, stemlines, baseline)=ax[idx].stem(np.arange(len(e)), kernel);\n",
    "    plt.setp(baseline, visible=False)\n",
    "    ax[idx].set_ylim((0,1.1))\n",
    "    ax[idx].set_xlim((-1,98))\n",
    "    ax[idx].set_title(kernel_name)\n",
    "    ax[idx].set_ylabel('Kernel strength');\n",
    "    ax[idx].set_xlabel('Eigenvalue index');"
   ]
  },
  {
   "cell_type": "code",
   "execution_count": null,
   "metadata": {},
   "outputs": [],
   "source": [
    "fig, ax = plt.subplots(3, 1, figsize=(20,16))\n",
    "\n",
    "kernels = {\n",
    "    'Heat kernel': heat_kernel(e,5),\n",
    "    'Inverse kernel': inverse_kernel(e,10),\n",
    "    'Rectangular kernel': rectangle_kernel(e,0.1,0.8)\n",
    "}\n",
    "\n",
    "for idx, (kernel_name, kernel) in enumerate(kernels.items()):    \n",
    "    (markerline, stemlines, baseline)=ax[idx].stem(e, kernel);\n",
    "    plt.setp(baseline, visible=False)\n",
    "    ax[idx].set_ylim((0,1.1))\n",
    "    ax[idx].set_title(kernel_name)\n",
    "    ax[idx].set_ylabel('Kernel strength');\n",
    "    ax[idx].set_xlabel('Eigenvalue frequency');"
   ]
  },
  {
   "cell_type": "markdown",
   "metadata": {},
   "source": [
    "We chose the filter parameters such that the second peak gets preserved well, while larger frequencies are attenuated. With the rectangle kernel, we can very easily select the desired frequencies, while with the other two we have to find some equilibrium between the strength of the desired signal and the rest. In case of the heat kernel, we could nicely isolate the second peak while not having to worry about the first one, as it models a constant signal over the network. In the inverse kernel, we still have a tail with a lot of weight.\n",
    "\n",
    "When filtering, we multiply this filter kernel by the Fourier spectrum of a signal, whereby the low frequencies are kept and the larger frequencies are discarded."
   ]
  },
  {
   "cell_type": "markdown",
   "metadata": {},
   "source": [
    "### Question 8\n",
    "\n",
    "Consider two Dirac impulses arbitrarily placed on your graph. Plot their filtered versions by the three filter kernels implemented in Question 6."
   ]
  },
  {
   "cell_type": "code",
   "execution_count": null,
   "metadata": {},
   "outputs": [],
   "source": [
    "def plot_filtered_diracs(dirac_dict, kernel_name, kernel, **kwargs):\n",
    "    ''' \n",
    "    Plots the filtered signal of two randomly chosen dirac spikes on a graph. \n",
    "    Plots using both Laplacian embedding and NetworkX Force-directed layout.\n",
    "    \n",
    "    Args:\n",
    "        dirac_dict: Dictionary specifying index and value of diracs. Eg: {30: 1, 60: -1}\n",
    "        kernel_name: Used in the title to indicate used kernel type\n",
    "        kernel: Kernel function to apply to diracs\n",
    "        kwargs: Additional arguments for specific kernel\n",
    "    '''\n",
    "    diracs = np.zeros(n_nodes)\n",
    "    dirac_idxs = list(dirac_dict.keys())\n",
    "    for idx, dirac_value in dirac_dict.items():\n",
    "        diracs[idx] = dirac_value\n",
    "\n",
    "    filtered = graph_filter(diracs, kernel, **kwargs)\n",
    "\n",
    "    vmax = max(-filtered.min(), filtered.max())\n",
    "    vmin = -vmax\n",
    "\n",
    "    # Plot using Laplacian embedding\n",
    "    fig, ax = plt.subplots(1, 2, figsize=(16,7))\n",
    "    # Plotting all nodes\n",
    "    ax[0].scatter(emb_x, emb_y, c=filtered, cmap='PiYG', s=70, \n",
    "                  edgecolors='black', vmin=vmin, vmax=vmax)\n",
    "    # Plotting the dirac locations\n",
    "    im = ax[0].scatter(emb_x[dirac_idxs], emb_y[dirac_idxs], c=diracs[dirac_idxs], \n",
    "                       cmap='PiYG', s=300, edgecolors='black', vmin=vmin, vmax=vmax, marker='x')\n",
    "    ax[0].set_title('Laplacian Embedding')\n",
    "    ax[0].set_xlabel('Generalized eigenvector embedding $U_1$')\n",
    "    ax[0].set_ylabel('Generalized eigenvector embedding $U_3$')\n",
    "\n",
    "    # Plot using NetworkX\n",
    "    nx.draw_networkx_nodes(graph, coords, node_size=60, node_color=filtered, \n",
    "                           cmap='PiYG', edgecolors='black', ax=ax[1], vmin=vmin, vmax=vmax)\n",
    "    nx.draw_networkx_edges(graph, coords, alpha=0.2, ax=ax[1])\n",
    "    # Plotting the dirac locations\n",
    "    d1_coords = coords[dirac_idxs[0]]\n",
    "    d2_coords = coords[dirac_idxs[1]]\n",
    "    im = ax[1].scatter(d1_coords[0], d1_coords[1], c=diracs[dirac_idxs[0]], \n",
    "                       cmap='PiYG', s=300, edgecolors='black', vmin=vmin, vmax=vmax, marker='x')\n",
    "    im = ax[1].scatter(d2_coords[0], d2_coords[1], c=diracs[dirac_idxs[1]], \n",
    "                       cmap='PiYG', s=300, edgecolors='black', vmin=vmin, vmax=vmax, marker='x')\n",
    "    ax[1].set_title('NetworkX Force-directed layout')\n",
    "\n",
    "    fig.suptitle('Signal = Two diracs filtered using {}'.format(kernel_name), fontsize=16)\n",
    "\n",
    "    fig.subplots_adjust(right=0.9)\n",
    "    cbar_ax = fig.add_axes([0.925, 0.15, 0.025, 0.7])\n",
    "    fig.colorbar(im, cax=cbar_ax)"
   ]
  },
  {
   "cell_type": "markdown",
   "metadata": {},
   "source": [
    "In the following plots, as our graph consists of two main clusters, we will plot the following possible combinations of placing two dirac spikes:\n",
    "\n",
    "- 8.1: Diracs of opposite signs in opposite clusters\n",
    "- 8.2: Diracs of opposite signs in same cluster\n",
    "- 8.3: Diracs of equal signs in opposite clusters\n",
    "- 8.4: Diracs of equal signs in same cluster\n",
    "\n",
    "For reproducibility reasons we will hereby not initialize the nodes randomly, but choose them arbitrarily ourself. We chose nodes 15, 30 and 60 for that purpose.\n",
    "\n",
    "*We plot the bellow graphs using a different color palette, as not to conflict the colours with any party associations in this exercise.*"
   ]
  },
  {
   "cell_type": "markdown",
   "metadata": {},
   "source": [
    "#### 8.1 Diracs of opposite signs in opposite clusters"
   ]
  },
  {
   "cell_type": "code",
   "execution_count": null,
   "metadata": {},
   "outputs": [],
   "source": [
    "plot_filtered_diracs({30: -1, 60: 1}, 'Heat Kernel', heat_kernel, t=5)"
   ]
  },
  {
   "cell_type": "code",
   "execution_count": null,
   "metadata": {},
   "outputs": [],
   "source": [
    "plot_filtered_diracs({30: -1, 60: 1}, 'Inverse Kernel', inverse_kernel, t=10)"
   ]
  },
  {
   "cell_type": "code",
   "execution_count": null,
   "metadata": {},
   "outputs": [],
   "source": [
    "plot_filtered_diracs({30: -1, 60: 1}, 'Rectangle Kernel', rectangle_kernel, l_min=0.1, l_max=0.8)"
   ]
  },
  {
   "cell_type": "markdown",
   "metadata": {},
   "source": [
    "#### 8.2 Diracs of opposite signs in same clusters"
   ]
  },
  {
   "cell_type": "code",
   "execution_count": null,
   "metadata": {},
   "outputs": [],
   "source": [
    "plot_filtered_diracs({30: -1, 15: 1}, 'Heat Kernel', heat_kernel, t=5)"
   ]
  },
  {
   "cell_type": "code",
   "execution_count": null,
   "metadata": {},
   "outputs": [],
   "source": [
    "plot_filtered_diracs({30: -1, 15: 1}, 'Inverse Kernel', inverse_kernel, t=10)"
   ]
  },
  {
   "cell_type": "code",
   "execution_count": null,
   "metadata": {},
   "outputs": [],
   "source": [
    "plot_filtered_diracs({30: -1, 15: 1}, 'Rectangle Kernel', rectangle_kernel, l_min=0.1, l_max=0.8)"
   ]
  },
  {
   "cell_type": "markdown",
   "metadata": {},
   "source": [
    "#### 8.3 Diracs of equal signs in opposite clusters"
   ]
  },
  {
   "cell_type": "code",
   "execution_count": null,
   "metadata": {},
   "outputs": [],
   "source": [
    "plot_filtered_diracs({30: 1, 60: 1}, 'Heat Kernel', heat_kernel, t=5)"
   ]
  },
  {
   "cell_type": "code",
   "execution_count": null,
   "metadata": {},
   "outputs": [],
   "source": [
    "plot_filtered_diracs({30: 1, 60: 1}, 'Inverse Kernel', inverse_kernel, t=10)"
   ]
  },
  {
   "cell_type": "code",
   "execution_count": null,
   "metadata": {},
   "outputs": [],
   "source": [
    "plot_filtered_diracs({30: 1, 60: 1}, 'Rectangle Kernel', rectangle_kernel, l_min=0.1, l_max=0.8)"
   ]
  },
  {
   "cell_type": "markdown",
   "metadata": {},
   "source": [
    "#### 8.4 Diracs of equal signs in same cluster"
   ]
  },
  {
   "cell_type": "code",
   "execution_count": null,
   "metadata": {},
   "outputs": [],
   "source": [
    "plot_filtered_diracs({30: 1, 15: 1}, 'Heat Kernel', heat_kernel, t=5)"
   ]
  },
  {
   "cell_type": "code",
   "execution_count": null,
   "metadata": {},
   "outputs": [],
   "source": [
    "plot_filtered_diracs({30: 1, 15: 1}, 'Inverse Kernel', inverse_kernel, t=10)"
   ]
  },
  {
   "cell_type": "code",
   "execution_count": null,
   "metadata": {},
   "outputs": [],
   "source": [
    "plot_filtered_diracs({30: 1, 15: 1}, 'Rectangle Kernel', rectangle_kernel, l_min=0.1, l_max=0.8)"
   ]
  },
  {
   "cell_type": "markdown",
   "metadata": {},
   "source": [
    "Comment on the \"diffusion\" of the Diracs induced by the filters. What does it say about the \"communication\" of information across your network? Relate that to the network connectivity measures that you analyzed during the previous milestones."
   ]
  },
  {
   "cell_type": "markdown",
   "metadata": {
    "inputHidden": false,
    "outputHidden": false
   },
   "source": [
    "**Your answer here.**\n",
    "\n",
    "*8.1: Diracs of opposite signs in opposite clusters*\n",
    "\n",
    "Both communities get nicely coloured in their respective sign. The inverse kernel diffusion results in a very weak signal across the network, but separation can be faintly visible.\n",
    "\n",
    "*8.2: Diracs of opposite signs in same cluster*\n",
    "\n",
    "The opposite spikes difused equally over the clusters, cancelling each other out in the process. The rectangular kernel on the other hand inhibits a particularly strong separation. This is the case because we are only preserving the signal belonging to a divide with the lowest frequency over the cluster.\n",
    "\n",
    "*8.3: Diracs of equal signs in opposite clusters*\n",
    "\n",
    "In this case we see an equal diffusion over the whole network. An exception is again made by the rectangular kernel, as seen in 8.2.\n",
    "\n",
    "*8.4: Diracs of equal signs in same cluster*\n",
    "\n",
    "The spikes are mainly difused into the cluster where they originated. The resulting signal is stronger in those clusters and weaker in the others.\n",
    "\n",
    "\n",
    "The above results are in line with our findings that communication within clusters is very high (i.e. distances are small), while distances between the two clusters are higher and thus communication lower."
   ]
  },
  {
   "cell_type": "markdown",
   "metadata": {},
   "source": [
    "## 3 - De-noising\n",
    "\n",
    "In this section we will add some centered Gaussian noise to your feature/label signal and attempt to recover it."
   ]
  },
  {
   "cell_type": "markdown",
   "metadata": {},
   "source": [
    "### Question 9\n",
    "\n",
    "In the cell below, set the noise variance $\\sigma^2$ by making sure that the signal-to-noise ratio $SNR = \\frac{\\operatorname{Var}(\\text{labels})}{\\sigma^2}$ is about  $1.5$.\n",
    "\n",
    "_Note:_ Actually, you might want to play with the noise variance here and set it to different values and see how the denoising filters behave."
   ]
  },
  {
   "cell_type": "code",
   "execution_count": null,
   "metadata": {
    "inputHidden": false,
    "outputHidden": false
   },
   "outputs": [],
   "source": [
    "noise_variance = labels.std()**2 / 1.5\n",
    "noisy_measurements = labels + noise_variance * np.random.randn(n_nodes)"
   ]
  },
  {
   "cell_type": "markdown",
   "metadata": {},
   "source": [
    "### Question 10\n",
    "\n",
    "In the denoising setting, a common graph signal processing assumption is that the signal $z$ that we want to recover is \"smooth\", in the sense that $\\|\\nabla_G z\\|_2 = \\sqrt{z^{\\top} L z}$ is small, while remaining \"close\" to the measurements that we start with. This leads to denoising by solving the following optimization problem:\n",
    "\n",
    "$$\n",
    "z^\\star = \\text{arg} \\, \\underset{z \\in \\mathbb{R}^{N}}{\\min} \\, \\|z - y\\|_2^2 + \\gamma z^{\\top} L z, \n",
    "$$\n",
    "\n",
    "where $y \\in \\mathbb{R}^{N}$ is the vector of noisy measurements.\n",
    "\n",
    "Derive the close form solution to this problem giving $z^\\star$ as a function of $y$, $\\gamma$ and $L$. Does this solution correspond to any graph filtering operation that you know?"
   ]
  },
  {
   "cell_type": "markdown",
   "metadata": {},
   "source": [
    "**Your answer here.**\n",
    "\n",
    "To find the optimum, we derive the above term (let's denote it as $g$) with respect to the vector $z$:\n",
    "\n",
    "$$ \\nabla_z g(z,y,\\gamma) = \\nabla_z \\|z - y\\|_2^2 + \\gamma z^{\\top} L z = 2(z-y) + 2 \\gamma L $$\n",
    "\n",
    "Setting $ \\nabla_z g(z,y,\\gamma) = 0 $ to find our minimum:\n",
    "\n",
    "\\begin{align}\n",
    "0 &= 2(z-y) + 2 \\gamma L \\\\\n",
    "  &= 2 (z(1+\\gamma L) - y)\n",
    "\\end{align}\n",
    "\n",
    "Solving for $z$ we get:\n",
    "\n",
    "$$ z^* = \\frac{y}{1 + \\gamma L} $$\n",
    "\n",
    "We have to check that $z^*$ is indeed our global minima. The function is convex, since it is a linear combination of other convex functions.\n",
    "Furthermore, $z^*$ is a minima, as the second derivative is positive semi-definite:\n",
    "\n",
    "$$ \\nabla_z^2 g(z,y,\\gamma) = \\nabla_z^2 \\|z - y\\|_2^2 + \\gamma z^{\\top} L z = 2 + 2 \\gamma L $$\n",
    "\n",
    "The solution for $z^*$ corresponds to the inverse kernel filter from above, that models $f_{out} = (I + tL)^{-1} f_{in}$ in the node domain."
   ]
  },
  {
   "cell_type": "markdown",
   "metadata": {},
   "source": [
    "### Question 11\n",
    "\n",
    "Now, denoise the noisy measurements by passing them through the filters that you implemented in Question 6. Choose the filter parameters based on the behavior of the GFT of your original label signal (this is the prior knowledge that you input to the problem)."
   ]
  },
  {
   "cell_type": "markdown",
   "metadata": {},
   "source": [
    "Plot, on your graph, the original label signal, the noisy measurements, and the three denoised version obtained above. Report on each plot the value of the corresponding relative error \n",
    "$$\n",
    "\\text{rel-err} = \\frac{\\|\\text{labels} - z \\|_2}{\\|\\text{labels}\\|_2},\n",
    "$$\n",
    "where $z$ is the plotted signal."
   ]
  },
  {
   "cell_type": "code",
   "execution_count": null,
   "metadata": {},
   "outputs": [],
   "source": [
    "def rel_err(labels, z):\n",
    "    ''' \n",
    "    Calculates the relative error between the true labels and an estimate z\n",
    "    \n",
    "    Args:\n",
    "        labels: Ground truth signal\n",
    "        z: Estimated signal\n",
    "    '''\n",
    "    return np.linalg.norm(labels - z, 2) / np.linalg.norm(labels, 2)"
   ]
  },
  {
   "cell_type": "code",
   "execution_count": null,
   "metadata": {},
   "outputs": [],
   "source": [
    "coplot_network_signal(labels, title='Signal = Ground truth labels')\n",
    "print('Relative Error: {:.2f}'.format(rel_err(labels, labels)))"
   ]
  },
  {
   "cell_type": "code",
   "execution_count": null,
   "metadata": {},
   "outputs": [],
   "source": [
    "coplot_network_signal(noisy_measurements, title='Signal = Noisy measurements')\n",
    "print('Relative Error: {:.2f}'.format(rel_err(labels, noisy_measurements)))"
   ]
  },
  {
   "cell_type": "code",
   "execution_count": null,
   "metadata": {},
   "outputs": [],
   "source": [
    "z_heat_denoised = graph_filter(noisy_measurements, heat_kernel, t=5)\n",
    "coplot_network_signal(z_heat_denoised, title='Signal = Heat denoised measurements')\n",
    "print('Relative Error: {:.2f}'.format(rel_err(labels, z_heat_denoised)))"
   ]
  },
  {
   "cell_type": "code",
   "execution_count": null,
   "metadata": {},
   "outputs": [],
   "source": [
    "z_inv_denoised = graph_filter(noisy_measurements, inverse_kernel, t=5)\n",
    "coplot_network_signal(z_inv_denoised, title='Signal = Inverse denoised measurements')\n",
    "print('Relative Error: {:.2f}'.format(rel_err(labels, z_inv_denoised)))"
   ]
  },
  {
   "cell_type": "code",
   "execution_count": null,
   "metadata": {},
   "outputs": [],
   "source": [
    "z_rect_denoised = graph_filter(noisy_measurements, rectangle_kernel, l_min=0.1, l_max=0.8)\n",
    "coplot_network_signal(z_rect_denoised, title='Signal = Rectangle denoised measurements')\n",
    "print('Relative Error: {:.2f}'.format(rel_err(labels, z_rect_denoised)))"
   ]
  },
  {
   "cell_type": "markdown",
   "metadata": {},
   "source": [
    "Finally, overlay on the same plot the GFT of all five signals above."
   ]
  },
  {
   "cell_type": "code",
   "execution_count": null,
   "metadata": {},
   "outputs": [],
   "source": [
    "signals = {\n",
    "    'Ground truth': labels,\n",
    "    'Noisy measurements': noisy_measurements,\n",
    "    'Heat filtered': z_heat_denoised,\n",
    "    'Inverse filtered': z_inv_denoised,\n",
    "    'Rectangle filtered': z_rect_denoised\n",
    "}\n",
    "\n",
    "plt.figure(figsize=(15,10))\n",
    "\n",
    "for signal_name, signal in signals.items():\n",
    "    plt.plot(signal, label=signal_name)\n",
    "    \n",
    "plt.xlabel('Node index')\n",
    "plt.ylabel('Signal strength')\n",
    "plt.title('Signals on sorted nodes')\n",
    "plt.legend()"
   ]
  },
  {
   "cell_type": "markdown",
   "metadata": {},
   "source": [
    "### Question 12\n",
    "\n",
    "Comment on which denoised version seems to best match the original label signal. What is the underlying assumption behind the three filtering approaches? Do you think it holds for your label signal? Why?\n",
    "\n",
    "*We plot the signal with respect to the (normalized) Eigenvalue frequency as well as the respective index.*"
   ]
  },
  {
   "cell_type": "code",
   "execution_count": null,
   "metadata": {},
   "outputs": [],
   "source": [
    "plt.figure(figsize=(20,8))\n",
    "\n",
    "(markerline, stemlines, baseline)=plt.stem(np.arange(len(e)),abs(GFT(noisy_measurements)));\n",
    "plt.setp(baseline, visible=False)\n",
    "plt.ylim((0,11))\n",
    "plt.xlim((-1,98))\n",
    "plt.title('Graph Fourier Transform of the noisy measurements')\n",
    "plt.ylabel('$|U^T x|$');\n",
    "plt.xlabel('Eigenvalue index');"
   ]
  },
  {
   "cell_type": "code",
   "execution_count": null,
   "metadata": {},
   "outputs": [],
   "source": [
    "plt.figure(figsize=(20,8))\n",
    "\n",
    "(markerline, stemlines, baseline)=plt.stem(e,abs(GFT(noisy_measurements)));\n",
    "plt.setp(baseline, visible=False)\n",
    "plt.ylim((0,11))\n",
    "plt.title('Graph Fourier Transform of the noisy measurements')\n",
    "plt.ylabel('$|U^T x|$');\n",
    "plt.xlabel('Eigenvalue frequency');"
   ]
  },
  {
   "cell_type": "markdown",
   "metadata": {},
   "source": [
    "**Your answer here.**\n",
    "\n",
    "From the graph plots and the plot with all the signals overlayed, the rectangle filter seems to recover the underlying labels best, without losing much signal strength.\n",
    "It also has the best relative error between the ground truth and denoised signal.\n",
    "\n",
    "Since our graph has only two big clusters, all other above filters did not have much of a problem denoising the noisy measurements either. We could threshold by taking the sign function of each denoised signal and retrieve a very accurate reconstruction of our labels.\n",
    "\n",
    "We tried to match the strength of our filters in the spectral domain to the strength of our Laplacian's eigenvalues, whereby the aim was to preserve as much as possible the frequencies of the very strong eigenvalue 1 and attenuate all others.\n",
    "As seen in our plots from Question 1, the eigenvector associated with eigenvalue 1 presents a smooth transition between the two main parties, accurately modeling their respective clusters.\n",
    "\n",
    "The underlying assumption is then, that if we design a filter that only keeps the preselected frequencies (and weakens or completely removes all others) over the network that we selected based on the ground truth, that noise is filtered out.\n",
    "This again stands on the assumption, that the introduced noise has frequencies that can be well separated from the signal in the frequency domain.\n",
    "\n",
    "For our signal, these assumptions hold, as we can see in the above plot of the GFT of our noisy signal. The main peak from eigenvalue 1 is still clearly visible and easy to filter out."
   ]
  },
  {
   "cell_type": "markdown",
   "metadata": {
    "ExecuteTime": {
     "end_time": "2018-08-31T13:05:59.301384Z",
     "start_time": "2018-08-31T13:05:59.297336Z"
    }
   },
   "source": [
    "## 4 - Transductive learning\n",
    "\n",
    "It is often the case in large networks that we can only afford to query properties/labels on a small subset of nodes. Nonetheless, if the underlying labels signal is \"regular\" enough, we might still be able to recover a good approximation of it by solving an offline variational problem, with constraints on the values of the measured nodes. \n",
    "\n",
    "In this section, we will be interested in solving such transductive learning problems by minimizing a (semi-) p-norm of the graph gradient applied to the signal of interest:\n",
    "\n",
    "$$\n",
    "\\text{arg} \\, \\underset{z|_S = y}{\\min} \\|\\nabla_G z\\|_p^p,\n",
    "$$\n",
    "\n",
    "where $S$ is the set of measured nodes.\n",
    "\n",
    "In English, we can say that we are looking for solutions with small \"aggregated local variations\", as measured by $\\|\\nabla_G z\\|_p^p = \\sum_{i=1}^{n} \\sum_{j=1}^{n} \\left( \\sqrt{W_{ij}} |z[i] - z[j]| \\right)^p,$ while satisfying the measurement constraints $z[i] = y[i]$ for $i \\in S.$\n",
    "\n",
    "We will work with two cases, according to the choices $p=1$ or $p=2.$ For $p=1,$ the problem is known as \"interpolation by graph total-variation minimization,\" whereas for $p=2$ it is sometimes called \"interpolation by Tikhonov regularization\".\n",
    "\n",
    "In order to solve these variational problems with the black-box solver provided to you, you will use the [pyunlocbox](https://pyunlocbox.readthedocs.io). This toolbox implements iterative solvers based on so-called [\"proximal-splitting\"](https://en.wikipedia.org/wiki/Proximal_gradient_method) methods."
   ]
  },
  {
   "cell_type": "markdown",
   "metadata": {},
   "source": [
    "### Question 13\n",
    "\n",
    "Throughout this section, we will consider only a binarized version of your label signal. If your variable `labels` currently has values other than $\\{-1, 1\\},$ threshold them so that those are the only values taken in this vector. This can be done for example by choosing a number $t \\in \\mathbb{R}$ and then setting $\\text{labels_bin}[i] = 1$ if $\\text{labels}[i] \\geq t$ and $\\text{labels_bin}[i] = 0$ otherwise."
   ]
  },
  {
   "cell_type": "code",
   "execution_count": null,
   "metadata": {
    "inputHidden": false,
    "outputHidden": false
   },
   "outputs": [],
   "source": [
    "# Setting the independent party members to be Democrats\n",
    "labels_bin = labels.copy()\n",
    "labels_bin[labels_bin==0] = -1"
   ]
  },
  {
   "cell_type": "markdown",
   "metadata": {},
   "source": [
    "Now, subsample this binarized label signal by $70\\%$ by choosing, uniformly at random, $30\\%$ of the nodes whose labels we will keep.\n",
    "\n",
    "You will do this by computing a \"measurement mask\" vector `w` with `1.0`'s at the measured coordinates, and $0.0$'s otherwise."
   ]
  },
  {
   "cell_type": "code",
   "execution_count": null,
   "metadata": {
    "inputHidden": false,
    "outputHidden": false
   },
   "outputs": [],
   "source": [
    "mn_ratio = 0.3\n",
    "w = np.random.binomial(n=1, p=mn_ratio, size=n_nodes)\n",
    "m = sum(w) # Number of measurements\n",
    "print('Sampled {} out of {} nodes'.format(m, n_nodes))"
   ]
  },
  {
   "cell_type": "markdown",
   "metadata": {},
   "source": [
    "Plot the subsampled signal on the graph. _Hint:_ you might want to set to `numpy.nan` the values of the un-measured nodes for a cleaner plot."
   ]
  },
  {
   "cell_type": "code",
   "execution_count": null,
   "metadata": {
    "inputHidden": false,
    "outputHidden": false
   },
   "outputs": [],
   "source": [
    "subsampled = labels_bin*w\n",
    "\n",
    "subsampled_nan = subsampled.copy()\n",
    "subsampled_nan[subsampled_nan==0] = np.nan\n",
    "subsampled_nan"
   ]
  },
  {
   "cell_type": "code",
   "execution_count": null,
   "metadata": {},
   "outputs": [],
   "source": [
    "coplot_network_signal(subsampled_nan, title='Signal = Subsampled labels')"
   ]
  },
  {
   "cell_type": "markdown",
   "metadata": {},
   "source": [
    "### Interlude\n",
    "\n",
    "For the solution of the variational problems you can use the following function as a \"black-box\". \n",
    "\n",
    "You will just need to provide a `gradient` matrix (which you should already have from Section 0), and an orthogonal projection operator `P` onto the span of the measured coordinates (made precise in the next question)."
   ]
  },
  {
   "cell_type": "code",
   "execution_count": null,
   "metadata": {},
   "outputs": [],
   "source": [
    "def graph_pnorm_interpolation(gradient, P, w, x0=None, p=1., **kwargs):\n",
    "    r\"\"\"\n",
    "    Solve an interpolation problem via gradient p-norm minimization.\n",
    "\n",
    "    A signal :math:`x` is estimated from its measurements :math:`y = A(x)` by solving\n",
    "    :math:`\\text{arg}\\underset{z \\in \\mathbb{R}^n}{\\min}\n",
    "    \\| \\nabla_G z \\|_p^p \\text{ subject to } Az = y` \n",
    "    via a primal-dual, forward-backward-forward algorithm.\n",
    "\n",
    "    Parameters\n",
    "    ----------\n",
    "    gradient : array_like\n",
    "        A matrix representing the graph gradient operator\n",
    "    P : callable\n",
    "        Orthogonal projection operator mapping points in :math:`z \\in \\mathbb{R}^n` \n",
    "        onto the set satisfying :math:`A P(z) = A z`.\n",
    "    x0 : array_like, optional\n",
    "        Initial point of the iteration. Must be of dimension n.\n",
    "        (Default is `numpy.random.randn(n)`)\n",
    "    p : {1., 2.}\n",
    "    kwargs :\n",
    "        Additional solver parameters, such as maximum number of iterations\n",
    "        (maxit), relative tolerance on the objective (rtol), and verbosity\n",
    "        level (verbosity). See :func:`pyunlocbox.solvers.solve` for the full\n",
    "        list of options.\n",
    "\n",
    "    Returns\n",
    "    -------\n",
    "    x : array_like\n",
    "        The solution to the optimization problem.\n",
    "\n",
    "    \"\"\"\n",
    "    \n",
    "    grad = lambda z: gradient.dot(z)\n",
    "    div = lambda z: gradient.transpose().dot(z)\n",
    "\n",
    "    # Indicator function of the set satisfying :math:`y = A(z)`\n",
    "    f = functions.func()\n",
    "    f._eval = lambda z: 0\n",
    "    f._prox = lambda z, gamma: P(z, w)\n",
    "\n",
    "    # :math:`\\ell_1` norm of the dual variable :math:`d = \\nabla_G z`\n",
    "    g = functions.func()\n",
    "    g._eval = lambda z: np.sum(np.abs(grad(z)))\n",
    "    g._prox = lambda d, gamma: functions._soft_threshold(d, gamma)\n",
    "\n",
    "    # :math:`\\ell_2` norm of the gradient (for the smooth case)\n",
    "    h = functions.norm_l2(A=grad, At=div)\n",
    "\n",
    "    stepsize = (0.9 / (1. + scipy.sparse.linalg.norm(gradient, ord='fro'))) ** p\n",
    "\n",
    "    solver = solvers.mlfbf(L=grad, Lt=div, step=stepsize)\n",
    "\n",
    "    if p == 1.:\n",
    "        problem = solvers.solve([f, g, functions.dummy()], x0=x0, solver=solver, **kwargs)\n",
    "        return problem['sol']\n",
    "    if p == 2.:\n",
    "        problem = solvers.solve([f, functions.dummy(), h], x0=x0, solver=solver, **kwargs)\n",
    "        return problem['sol']\n",
    "    else:\n",
    "        return x0"
   ]
  },
  {
   "cell_type": "markdown",
   "metadata": {},
   "source": [
    "### Question 14\n",
    "\n",
    "During the iterations of the algorithm used for solving the variational problem, we have to make sure that the labels at the measured nodes stay the same. We will do this by means of an operator `P` which, given a vector $a \\in \\mathbb{R}^{N},$ returns another vector $b \\in \\mathbb{R}^{N}$ satisfying $b[i] = \\text{labels_bin}[i]$ for every node $i$ in the set $S$ of known labels, and $b[i] = a[i]$ otherwise. Write in the cell below the function for this orthogonal projection operator `P`.\n",
    "\n",
    "_Hint:_ remember you have already computed the mask `w`."
   ]
  },
  {
   "cell_type": "code",
   "execution_count": null,
   "metadata": {
    "inputHidden": false,
    "outputHidden": false
   },
   "outputs": [],
   "source": [
    "def P(a, w):\n",
    "    mask_pos = np.where(w==1)\n",
    "    b = a.copy()\n",
    "    b[mask_pos] = labels_bin[mask_pos]\n",
    "    return b"
   ]
  },
  {
   "cell_type": "markdown",
   "metadata": {
    "inputHidden": false,
    "outputHidden": false
   },
   "source": [
    "### Question 15\n",
    "\n",
    "Solve the variational problems for $p = 1$ and $p = 2$. Record the solution for the $1-$norm minimization under `sol_1norm_min` and the one for $2-$norm minimization under `sol_2norm_min`.\n",
    "\n",
    "Compute also binarized versions of these solutions by thresholding the values with respect to $0$, that is, non-negative values become `1.0`, while negative values become `-1.0`. Store those binarized versions under `sol_1norm_bin` and `sol_2norm_bin`, respectively."
   ]
  },
  {
   "cell_type": "code",
   "execution_count": null,
   "metadata": {
    "inputHidden": false,
    "outputHidden": false
   },
   "outputs": [],
   "source": [
    "sol_1norm_min = graph_pnorm_interpolation(sparse.csr_matrix(S).T, P, w, x0=subsampled.copy(), p=1.)\n",
    "\n",
    "sol_2norm_min = graph_pnorm_interpolation(sparse.csr_matrix(S).T, P, w, x0=subsampled.copy(), p=2.)\n",
    "\n",
    "threshold = 0\n",
    "\n",
    "sol_1norm_bin = (sol_1norm_min > threshold).astype(int)\n",
    "sol_1norm_bin[sol_1norm_bin==0] = -1\n",
    "\n",
    "sol_2norm_bin = (sol_2norm_min > threshold).astype(int)\n",
    "sol_2norm_bin[sol_2norm_bin==0] = -1"
   ]
  },
  {
   "cell_type": "markdown",
   "metadata": {
    "inputHidden": false,
    "outputHidden": false
   },
   "source": [
    "Plot, on your graph, the original `labels_bin` signal, as well as the solutions to the variational problems (both binarized and otherwise). Indicate on each plot the value of the relative error $\\text{rel-err} = \\frac{\\|\\text{labels_bin} - z\\|_2}{\\|\\text{labels_bin}\\|_2}$, where $z$ is the signal in the corresponding plot."
   ]
  },
  {
   "cell_type": "code",
   "execution_count": null,
   "metadata": {},
   "outputs": [],
   "source": [
    "coplot_network_signal(labels_bin, title='Signal = Ground truth labels')\n",
    "print('Relative Error: {:.2f}'.format(rel_err(labels_bin, labels_bin)))"
   ]
  },
  {
   "cell_type": "code",
   "execution_count": null,
   "metadata": {},
   "outputs": [],
   "source": [
    "coplot_network_signal(sol_1norm_min, title='Signal = Variational problem solution for p=1')\n",
    "print('Relative Error: {:.2f}'.format(rel_err(labels_bin, sol_1norm_min)))"
   ]
  },
  {
   "cell_type": "code",
   "execution_count": null,
   "metadata": {},
   "outputs": [],
   "source": [
    "coplot_network_signal(sol_1norm_bin, title='Signal = Binarized variational problem solution for p=1')\n",
    "print('Relative Error: {:.2f}'.format(rel_err(labels_bin, sol_1norm_bin)))"
   ]
  },
  {
   "cell_type": "code",
   "execution_count": null,
   "metadata": {},
   "outputs": [],
   "source": [
    "coplot_network_signal(sol_2norm_min, title='Signal = Variational problem solution for p=2')\n",
    "print('Relative Error: {:.2f}'.format(rel_err(labels_bin, sol_2norm_min)))"
   ]
  },
  {
   "cell_type": "code",
   "execution_count": null,
   "metadata": {},
   "outputs": [],
   "source": [
    "coplot_network_signal(sol_2norm_bin, title='Signal = Binarized variational problem solution for p=2')\n",
    "print('Relative Error: {:.2f}'.format(rel_err(labels_bin, sol_2norm_bin)))"
   ]
  },
  {
   "cell_type": "markdown",
   "metadata": {},
   "source": [
    "### Question 16\n",
    "\n",
    "Now that you have got a feeling for the sort of solutions that the transductive learning problems studied can give, we will see what is the effect of the number of measurements on the accuracy of both $p-$norm minimization problems.\n",
    "\n",
    "Towards this goal, you will write a `phase_transition()` function. This function will basically go over all the procedures that you have implemented in this section, but for varying numbers of measurements and thresholding values. It will also compute the relative error, $\\text{rel-err},$ of the solutions and average them over a number of trials.\n",
    "\n",
    "The output of the `phase_transition()` function has to be a matrix with `len(mn_ratios)` columns and `len(thresholds)` rows. Each pixel $(i,j)$ in the output matrix has to contain the average, over `n_trials` trials, of the relative error $\\text{rel-err}$ in the binarized (with threshold `thresholds[i]`) solution given by `graph_pnorm_interpolation()` from observing an `mn_ratios[j]` fraction of nodes. The randomness comes from a different choice of mask `w` at each trial, hence the averaging.\n",
    "\n",
    "The interest of this phase transition matrix is to assess what level of recovery error one could expect for a certain fraction of measurements and a certain threshold level."
   ]
  },
  {
   "cell_type": "code",
   "execution_count": null,
   "metadata": {
    "inputHidden": false,
    "outputHidden": false
   },
   "outputs": [],
   "source": [
    "def phase_transition(mn_ratios, thresholds, n_trials, labels_bin, p, **kwargs):    \n",
    "    pt_matrix = np.zeros((len(thresholds), len(mn_ratios)))\n",
    "\n",
    "    for i, threshold in enumerate(thresholds):\n",
    "        for j, ratio in enumerate(mn_ratios):\n",
    "            # Simulate n_trials times\n",
    "            for trial in range(n_trials):\n",
    "                # Subsample randomly\n",
    "                w = np.random.binomial(n=1, p=ratio, size=n_nodes)\n",
    "                subsampled = labels_bin * w\n",
    "                # Solve p-norm interpolation\n",
    "                sol = graph_pnorm_interpolation(sparse.csr_matrix(S).T, P, w, \n",
    "                                                x0=subsampled.copy(), p=p, **kwargs)\n",
    "                # Threshold to -1 and 1\n",
    "                sol_bin = (sol > threshold).astype(int)\n",
    "                sol_bin[sol_bin==0] = -1\n",
    "                # Compute and store the error\n",
    "                pt_matrix[i,j] += rel_err(labels_bin, sol_bin)\n",
    "\n",
    "    # Computing the mean of all trials\n",
    "    pt_matrix /= n_trials\n",
    "    \n",
    "    return pt_matrix"
   ]
  },
  {
   "cell_type": "markdown",
   "metadata": {},
   "source": [
    "### Question 17\n",
    "\n",
    "Pick 5 \"m/n\" ratios in $(0, 1)$ and 5 threshold levels in $(-1, 1)$ and run the `phase_transition()` function with `n_trials` = 20, for both $p = 1$ and $p = 2$."
   ]
  },
  {
   "cell_type": "code",
   "execution_count": null,
   "metadata": {
    "inputHidden": false,
    "outputHidden": false
   },
   "outputs": [],
   "source": [
    "N = 11 # For more detail in the plots below, but longer computation time!\n",
    "n_trials = 20\n",
    "#mn_ratios = np.linspace(0.05, 0.9, N) # To space linearly\n",
    "mn_ratios = np.geomspace(0.01, 0.9, N) # Small ratios are more interesting\n",
    "thresholds = np.linspace(-0.9, 0.9, N)\n",
    "\n",
    "pt_matrix_1norm = phase_transition(mn_ratios, thresholds, n_trials, labels_bin, 1, verbosity='NONE')\n",
    "pt_matrix_2norm = phase_transition(mn_ratios, thresholds, n_trials, labels_bin, 2, verbosity='NONE')"
   ]
  },
  {
   "cell_type": "markdown",
   "metadata": {},
   "source": [
    "Plot both phase transition matrices as images with a colorbar. Make sure to properly name the axes and title the images. "
   ]
  },
  {
   "cell_type": "code",
   "execution_count": null,
   "metadata": {
    "inputHidden": false,
    "outputHidden": false
   },
   "outputs": [],
   "source": [
    "ratio_strings = ['{:.2f}'.format(ratio) for ratio in mn_ratios]\n",
    "thresh_strings = ['{:.2f}'.format(thresh) for thresh in thresholds]\n",
    "\n",
    "vmax = max(pt_matrix_1norm.max(), pt_matrix_2norm.max())\n",
    "vmin = min(pt_matrix_1norm.min(), pt_matrix_2norm.min())\n",
    "\n",
    "fig, ax = plt.subplots(1,2,figsize=(16,8))\n",
    "\n",
    "im = ax[0].imshow(pt_matrix_1norm, cmap='inferno', vmin=vmin, vmax=vmax)\n",
    "ax[0].set_title('1-Norm')\n",
    "ax[0].set_xlabel('m/n ratio')\n",
    "ax[0].set_ylabel('Threshold')\n",
    "ax[0].set_xticks(np.arange(N))\n",
    "ax[0].set_yticks(np.arange(N))\n",
    "ax[0].set_xticklabels(ratio_strings)\n",
    "ax[0].set_yticklabels(thresh_strings)\n",
    "\n",
    "im = ax[1].imshow(pt_matrix_2norm, cmap='inferno', vmin=vmin, vmax=vmax)\n",
    "ax[1].set_title('2-Norm')\n",
    "ax[1].set_xlabel('m/n ratio')\n",
    "ax[1].set_ylabel('Threshold')\n",
    "ax[1].set_xticks(np.arange(N))\n",
    "ax[1].set_yticks(np.arange(N))\n",
    "ax[1].set_xticklabels(ratio_strings)\n",
    "ax[1].set_yticklabels(thresh_strings)\n",
    "\n",
    "fig.suptitle('Phase transition matrices (Darker is better)', fontsize=16)\n",
    "\n",
    "fig.subplots_adjust(right=0.9)\n",
    "cbar_ax = fig.add_axes([0.925, 0.15, 0.025, 0.7])\n",
    "fig.colorbar(im, cax=cbar_ax)\n",
    "\n",
    "plt.show()"
   ]
  },
  {
   "cell_type": "markdown",
   "metadata": {},
   "source": [
    "### Question 18\n",
    "\n",
    "Do the phase transition plots above provide any justification for choosing one $p-$norm interpolation over the other? Why?"
   ]
  },
  {
   "cell_type": "markdown",
   "metadata": {},
   "source": [
    "**Your answer here.**\n",
    "\n",
    "When picking a threshold of 0, the 2-Norm yields very good results up to very small ratios. If we choose different thresholds, the results quickly degrade. This is because the 2-Norm tends to produce estimates between the smallest and largest inputs -1 and 1, which makes chosing a good threshold important. As we have two balanced clusters, choosing the threshold to be zero is the most reasonable choice.\n",
    "\n",
    "For the 1-Norm, results are almost entirely independent of the threshold we choose. Indeed, the estimated values tend to be bellow or above the smallest and largest inputs -1 and 1, making the choice of a threshold between -1 and 1 futile. Performance is only slightly worse than using the 2-Norm with a carefully selected threshold.\n",
    "\n",
    "If there is an easy and justified way to pick a good threshold, taking the 2-Norm might produce better results. If this is not the case, one can get good results across the board with the 1-Norm using an almost arbitrary threshold."
   ]
  },
  {
   "cell_type": "code",
   "execution_count": null,
   "metadata": {},
   "outputs": [],
   "source": []
  }
 ],
 "metadata": {
  "kernel_info": {
   "name": "python3"
  },
  "kernelspec": {
   "display_name": "Python 3",
   "language": "python",
   "name": "python3"
  },
  "language_info": {
   "codemirror_mode": {
    "name": "ipython",
    "version": 3
   },
   "file_extension": ".py",
   "mimetype": "text/x-python",
   "name": "python",
   "nbconvert_exporter": "python",
   "pygments_lexer": "ipython3",
   "version": "3.7.1"
  },
  "latex_envs": {
   "LaTeX_envs_menu_present": true,
   "autoclose": true,
   "autocomplete": true,
   "bibliofile": "biblio.bib",
   "cite_by": "apalike",
   "current_citInitial": 1,
   "eqLabelWithNumbers": true,
   "eqNumInitial": 1,
   "hotkeys": {
    "equation": "Ctrl-E",
    "itemize": "Ctrl-I"
   },
   "labels_anchors": false,
   "latex_user_defs": false,
   "report_style_numbering": false,
   "user_envs_cfg": false
  },
  "nteract": {
   "version": "0.12.3"
  },
  "varInspector": {
   "cols": {
    "lenName": 16,
    "lenType": 16,
    "lenVar": 40
   },
   "kernels_config": {
    "python": {
     "delete_cmd_postfix": "",
     "delete_cmd_prefix": "del ",
     "library": "var_list.py",
     "varRefreshCmd": "print(var_dic_list())"
    },
    "r": {
     "delete_cmd_postfix": ") ",
     "delete_cmd_prefix": "rm(",
     "library": "var_list.r",
     "varRefreshCmd": "cat(var_dic_list()) "
    }
   },
   "types_to_exclude": [
    "module",
    "function",
    "builtin_function_or_method",
    "instance",
    "_Feature"
   ],
   "window_display": false
  }
 },
 "nbformat": 4,
 "nbformat_minor": 2
}
